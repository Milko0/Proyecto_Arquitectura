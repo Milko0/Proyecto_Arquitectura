{
 "cells": [
  {
   "cell_type": "code",
   "execution_count": 1,
   "metadata": {},
   "outputs": [],
   "source": [
    "import csv\n",
    "import time\n",
    "import plotly.express as px\n",
    "import plotly.graph_objects as go\n",
    "from IPython.display import display, clear_output\n",
    "import pandas as pd\n",
    "import seaborn as sns\n",
    "import matplotlib.pyplot as plt\n"
   ]
  },
  {
   "cell_type": "markdown",
   "metadata": {},
   "source": [
    "Análisis de Resultados"
   ]
  },
  {
   "cell_type": "code",
   "execution_count": null,
   "metadata": {},
   "outputs": [
    {
     "data": {
      "application/vnd.plotly.v1+json": {
       "config": {
        "plotlyServerURL": "https://plot.ly"
       },
       "data": [
        {
         "hovertemplate": "id_ubi=1<br>variable=CO2<br>Timestamp=%{x}<br>value=%{y}<extra></extra>",
         "legendgroup": "1",
         "line": {
          "color": "#636efa",
          "dash": "solid"
         },
         "marker": {
          "symbol": "circle"
         },
         "mode": "lines",
         "name": "1",
         "orientation": "v",
         "showlegend": true,
         "type": "scatter",
         "x": [
          1.04,
          3.06,
          5.08,
          7.1,
          9.12,
          11.14,
          13.16,
          15.18,
          17.2,
          19.22,
          21.24,
          23.26,
          25.28,
          27.3,
          29.32,
          31.34,
          33.36,
          35.38,
          37.4,
          39.42,
          41.44,
          43.46,
          45.48,
          47.5,
          49.52,
          51.54,
          53.56,
          55.58,
          57.6,
          59.62
         ],
         "xaxis": "x",
         "y": [
          163.1,
          162.9,
          162.9,
          163.1,
          162.9,
          162.7,
          162.6,
          162.4,
          162.7,
          162.5,
          162.7,
          162.6,
          162.4,
          162.2,
          162.1,
          162.4,
          162.6,
          162.8,
          162.9,
          162.7,
          162.6,
          162.8,
          162.9,
          162.8,
          162.5,
          162.7,
          162.7,
          162.9,
          162.6,
          162.7
         ],
         "yaxis": "y"
        },
        {
         "hovertemplate": "id_ubi=1<br>variable=Temperature<br>Timestamp=%{x}<br>value=%{y}<extra></extra>",
         "legendgroup": "1",
         "line": {
          "color": "#636efa",
          "dash": "solid"
         },
         "marker": {
          "symbol": "circle"
         },
         "mode": "lines",
         "name": "1",
         "orientation": "v",
         "showlegend": false,
         "type": "scatter",
         "x": [
          1.04,
          3.06,
          5.08,
          7.1,
          9.12,
          11.14,
          13.16,
          15.18,
          17.2,
          19.22,
          21.24,
          23.26,
          25.28,
          27.3,
          29.32,
          31.34,
          33.36,
          35.38,
          37.4,
          39.42,
          41.44,
          43.46,
          45.48,
          47.5,
          49.52,
          51.54,
          53.56,
          55.58,
          57.6,
          59.62
         ],
         "xaxis": "x",
         "y": [
          32,
          32,
          32,
          32,
          32,
          32,
          32,
          32,
          32,
          32,
          32,
          32,
          32,
          32,
          32,
          32,
          32,
          32,
          32,
          32,
          32,
          32,
          32,
          32,
          32,
          32,
          32,
          32,
          32,
          32
         ],
         "yaxis": "y"
        },
        {
         "hovertemplate": "id_ubi=1<br>variable=Humidity<br>Timestamp=%{x}<br>value=%{y}<extra></extra>",
         "legendgroup": "1",
         "line": {
          "color": "#636efa",
          "dash": "solid"
         },
         "marker": {
          "symbol": "circle"
         },
         "mode": "lines",
         "name": "1",
         "orientation": "v",
         "showlegend": false,
         "type": "scatter",
         "x": [
          1.04,
          3.06,
          5.08,
          7.1,
          9.12,
          11.14,
          13.16,
          15.18,
          17.2,
          19.22,
          21.24,
          23.26,
          25.28,
          27.3,
          29.32,
          31.34,
          33.36,
          35.38,
          37.4,
          39.42,
          41.44,
          43.46,
          45.48,
          47.5,
          49.52,
          51.54,
          53.56,
          55.58,
          57.6,
          59.62
         ],
         "xaxis": "x",
         "y": [
          60.7,
          60.7,
          60.7,
          60.7,
          60.7,
          60.7,
          60.8,
          60.7,
          60.7,
          60.7,
          60.7,
          60.6,
          60.5,
          60.5,
          60.4,
          60.4,
          60.4,
          60.3,
          60.3,
          60.2,
          60.2,
          60.2,
          60.2,
          60.3,
          60.3,
          60.4,
          60.4,
          60.3,
          60.3,
          60.3
         ],
         "yaxis": "y"
        },
        {
         "hovertemplate": "id_ubi=2<br>variable=CO2<br>Timestamp=%{x}<br>value=%{y}<extra></extra>",
         "legendgroup": "2",
         "line": {
          "color": "#EF553B",
          "dash": "solid"
         },
         "marker": {
          "symbol": "circle"
         },
         "mode": "lines",
         "name": "2",
         "orientation": "v",
         "showlegend": true,
         "type": "scatter",
         "x": [
          1.04,
          3.06,
          5.08,
          7.1,
          9.12,
          11.14,
          13.16,
          15.18,
          17.2,
          19.22,
          21.24,
          23.26,
          25.28,
          27.3,
          29.32,
          31.34,
          33.36,
          35.38,
          37.4,
          39.42,
          41.44,
          43.46,
          45.48,
          47.5,
          49.52,
          51.54,
          53.56,
          55.58,
          57.6,
          59.62
         ],
         "xaxis": "x",
         "y": [
          165.7,
          165.5,
          165.6,
          165.7,
          165.9,
          166,
          166.3,
          166.4,
          166.5,
          166.6,
          166.6,
          166.9,
          167.1,
          167,
          166.8,
          166.6,
          166.4,
          166.5,
          166.6,
          166.6,
          166.4,
          166.3,
          166.2,
          166.3,
          166.3,
          166.6,
          166.8,
          166.9,
          166.9,
          166.7
         ],
         "yaxis": "y"
        },
        {
         "hovertemplate": "id_ubi=2<br>variable=Temperature<br>Timestamp=%{x}<br>value=%{y}<extra></extra>",
         "legendgroup": "2",
         "line": {
          "color": "#EF553B",
          "dash": "solid"
         },
         "marker": {
          "symbol": "circle"
         },
         "mode": "lines",
         "name": "2",
         "orientation": "v",
         "showlegend": false,
         "type": "scatter",
         "x": [
          1.04,
          3.06,
          5.08,
          7.1,
          9.12,
          11.14,
          13.16,
          15.18,
          17.2,
          19.22,
          21.24,
          23.26,
          25.28,
          27.3,
          29.32,
          31.34,
          33.36,
          35.38,
          37.4,
          39.42,
          41.44,
          43.46,
          45.48,
          47.5,
          49.52,
          51.54,
          53.56,
          55.58,
          57.6,
          59.62
         ],
         "xaxis": "x",
         "y": [
          31.7,
          31.7,
          31.7,
          31.7,
          31.7,
          31.7,
          31.7,
          31.7,
          31.8,
          31.8,
          31.8,
          31.8,
          31.8,
          31.8,
          31.7,
          31.7,
          31.7,
          31.7,
          31.7,
          31.7,
          31.7,
          31.7,
          31.7,
          31.7,
          31.7,
          31.7,
          31.7,
          31.7,
          31.7,
          31.7
         ],
         "yaxis": "y"
        },
        {
         "hovertemplate": "id_ubi=2<br>variable=Humidity<br>Timestamp=%{x}<br>value=%{y}<extra></extra>",
         "legendgroup": "2",
         "line": {
          "color": "#EF553B",
          "dash": "solid"
         },
         "marker": {
          "symbol": "circle"
         },
         "mode": "lines",
         "name": "2",
         "orientation": "v",
         "showlegend": false,
         "type": "scatter",
         "x": [
          1.04,
          3.06,
          5.08,
          7.1,
          9.12,
          11.14,
          13.16,
          15.18,
          17.2,
          19.22,
          21.24,
          23.26,
          25.28,
          27.3,
          29.32,
          31.34,
          33.36,
          35.38,
          37.4,
          39.42,
          41.44,
          43.46,
          45.48,
          47.5,
          49.52,
          51.54,
          53.56,
          55.58,
          57.6,
          59.62
         ],
         "xaxis": "x",
         "y": [
          62.4,
          62.4,
          62.4,
          62.4,
          62.5,
          62.6,
          62.6,
          62.6,
          62.6,
          62.6,
          62.6,
          62.7,
          62.7,
          62.8,
          62.9,
          62.9,
          62.8,
          62.7,
          62.8,
          62.7,
          62.6,
          62.5,
          62.5,
          62.5,
          62.5,
          62.5,
          62.6,
          62.6,
          62.6,
          62.7
         ],
         "yaxis": "y"
        },
        {
         "hovertemplate": "id_ubi=3<br>variable=CO2<br>Timestamp=%{x}<br>value=%{y}<extra></extra>",
         "legendgroup": "3",
         "line": {
          "color": "#00cc96",
          "dash": "solid"
         },
         "marker": {
          "symbol": "circle"
         },
         "mode": "lines",
         "name": "3",
         "orientation": "v",
         "showlegend": true,
         "type": "scatter",
         "x": [
          1.04,
          3.06,
          5.08,
          7.1,
          9.12,
          11.14,
          13.16,
          15.18,
          17.2,
          19.22,
          21.24,
          23.26,
          25.28,
          27.3,
          29.32,
          31.34,
          33.36,
          35.38,
          37.4,
          39.42,
          41.44,
          43.46,
          45.48,
          47.5,
          49.52,
          51.54,
          53.56,
          55.58,
          57.6,
          59.62
         ],
         "xaxis": "x",
         "y": [
          150.1,
          149.9,
          149.9,
          149.9,
          150.2,
          150.1,
          149.9,
          150,
          149.8,
          149.6,
          149.6,
          149.5,
          149.6,
          149.8,
          149.7,
          149.8,
          149.9,
          149.8,
          149.7,
          149.7,
          149.7,
          149.9,
          149.7,
          149.9,
          150.1,
          149.8,
          149.8,
          149.9,
          149.7,
          149.6
         ],
         "yaxis": "y"
        },
        {
         "hovertemplate": "id_ubi=3<br>variable=Temperature<br>Timestamp=%{x}<br>value=%{y}<extra></extra>",
         "legendgroup": "3",
         "line": {
          "color": "#00cc96",
          "dash": "solid"
         },
         "marker": {
          "symbol": "circle"
         },
         "mode": "lines",
         "name": "3",
         "orientation": "v",
         "showlegend": false,
         "type": "scatter",
         "x": [
          1.04,
          3.06,
          5.08,
          7.1,
          9.12,
          11.14,
          13.16,
          15.18,
          17.2,
          19.22,
          21.24,
          23.26,
          25.28,
          27.3,
          29.32,
          31.34,
          33.36,
          35.38,
          37.4,
          39.42,
          41.44,
          43.46,
          45.48,
          47.5,
          49.52,
          51.54,
          53.56,
          55.58,
          57.6,
          59.62
         ],
         "xaxis": "x",
         "y": [
          31.4,
          31.5,
          31.5,
          31.5,
          31.5,
          31.4,
          31.4,
          31.4,
          31.4,
          31.4,
          31.4,
          31.4,
          31.4,
          31.4,
          31.4,
          31.4,
          31.5,
          31.5,
          31.5,
          31.6,
          31.6,
          31.5,
          31.4,
          31.4,
          31.4,
          31.4,
          31.4,
          31.4,
          31.4,
          31.4
         ],
         "yaxis": "y"
        },
        {
         "hovertemplate": "id_ubi=3<br>variable=Humidity<br>Timestamp=%{x}<br>value=%{y}<extra></extra>",
         "legendgroup": "3",
         "line": {
          "color": "#00cc96",
          "dash": "solid"
         },
         "marker": {
          "symbol": "circle"
         },
         "mode": "lines",
         "name": "3",
         "orientation": "v",
         "showlegend": false,
         "type": "scatter",
         "x": [
          1.04,
          3.06,
          5.08,
          7.1,
          9.12,
          11.14,
          13.16,
          15.18,
          17.2,
          19.22,
          21.24,
          23.26,
          25.28,
          27.3,
          29.32,
          31.34,
          33.36,
          35.38,
          37.4,
          39.42,
          41.44,
          43.46,
          45.48,
          47.5,
          49.52,
          51.54,
          53.56,
          55.58,
          57.6,
          59.62
         ],
         "xaxis": "x",
         "y": [
          61.3,
          61.2,
          61.2,
          61.2,
          61.2,
          61.2,
          61.3,
          61.3,
          61.3,
          61.2,
          61.2,
          61.2,
          61.3,
          61.3,
          61.4,
          61.4,
          61.5,
          61.6,
          61.6,
          61.6,
          61.6,
          61.6,
          61.6,
          61.6,
          61.7,
          61.7,
          61.8,
          61.8,
          61.8,
          61.8
         ],
         "yaxis": "y"
        },
        {
         "hovertemplate": "id_ubi=4<br>variable=CO2<br>Timestamp=%{x}<br>value=%{y}<extra></extra>",
         "legendgroup": "4",
         "line": {
          "color": "#ab63fa",
          "dash": "solid"
         },
         "marker": {
          "symbol": "circle"
         },
         "mode": "lines",
         "name": "4",
         "orientation": "v",
         "showlegend": true,
         "type": "scatter",
         "x": [
          1.04,
          3.06,
          5.08,
          7.1,
          9.12,
          11.14,
          13.16,
          15.18,
          17.2,
          19.22,
          21.24,
          23.26,
          25.28,
          27.3,
          29.32,
          31.34,
          33.36,
          35.38,
          37.4,
          39.42,
          41.44,
          43.46,
          45.48,
          47.5,
          49.52,
          51.54,
          53.56,
          55.58,
          57.6,
          59.62
         ],
         "xaxis": "x",
         "y": [
          163.1,
          162.9,
          163.1,
          163.1,
          163,
          163.2,
          163,
          162.9,
          163.2,
          163.1,
          162.9,
          162.9,
          162.6,
          162.5,
          162.6,
          162.7,
          162.6,
          162.7,
          162.6,
          162.6,
          162.5,
          162.8,
          162.8,
          162.9,
          162.7,
          162.5,
          162.7,
          162.9,
          162.6,
          162.6
         ],
         "yaxis": "y"
        },
        {
         "hovertemplate": "id_ubi=4<br>variable=Temperature<br>Timestamp=%{x}<br>value=%{y}<extra></extra>",
         "legendgroup": "4",
         "line": {
          "color": "#ab63fa",
          "dash": "solid"
         },
         "marker": {
          "symbol": "circle"
         },
         "mode": "lines",
         "name": "4",
         "orientation": "v",
         "showlegend": false,
         "type": "scatter",
         "x": [
          1.04,
          3.06,
          5.08,
          7.1,
          9.12,
          11.14,
          13.16,
          15.18,
          17.2,
          19.22,
          21.24,
          23.26,
          25.28,
          27.3,
          29.32,
          31.34,
          33.36,
          35.38,
          37.4,
          39.42,
          41.44,
          43.46,
          45.48,
          47.5,
          49.52,
          51.54,
          53.56,
          55.58,
          57.6,
          59.62
         ],
         "xaxis": "x",
         "y": [
          31.5,
          31.5,
          31.5,
          31.5,
          31.5,
          31.6,
          31.5,
          31.5,
          31.5,
          31.5,
          31.5,
          31.5,
          31.5,
          31.5,
          31.5,
          31.4,
          31.4,
          31.4,
          31.4,
          31.4,
          31.4,
          31.4,
          31.4,
          31.4,
          31.5,
          31.5,
          31.5,
          31.5,
          31.5,
          31.6
         ],
         "yaxis": "y"
        },
        {
         "hovertemplate": "id_ubi=4<br>variable=Humidity<br>Timestamp=%{x}<br>value=%{y}<extra></extra>",
         "legendgroup": "4",
         "line": {
          "color": "#ab63fa",
          "dash": "solid"
         },
         "marker": {
          "symbol": "circle"
         },
         "mode": "lines",
         "name": "4",
         "orientation": "v",
         "showlegend": false,
         "type": "scatter",
         "x": [
          1.04,
          3.06,
          5.08,
          7.1,
          9.12,
          11.14,
          13.16,
          15.18,
          17.2,
          19.22,
          21.24,
          23.26,
          25.28,
          27.3,
          29.32,
          31.34,
          33.36,
          35.38,
          37.4,
          39.42,
          41.44,
          43.46,
          45.48,
          47.5,
          49.52,
          51.54,
          53.56,
          55.58,
          57.6,
          59.62
         ],
         "xaxis": "x",
         "y": [
          59.6,
          59.6,
          59.6,
          59.7,
          59.8,
          59.8,
          59.9,
          60,
          60.1,
          60.1,
          60.1,
          60,
          59.9,
          59.9,
          60,
          60.1,
          60,
          59.9,
          59.9,
          59.8,
          59.9,
          60,
          60,
          60,
          60.1,
          60,
          60.1,
          60.1,
          60.2,
          60.2
         ],
         "yaxis": "y"
        },
        {
         "hovertemplate": "id_ubi=5<br>variable=CO2<br>Timestamp=%{x}<br>value=%{y}<extra></extra>",
         "legendgroup": "5",
         "line": {
          "color": "#FFA15A",
          "dash": "solid"
         },
         "marker": {
          "symbol": "circle"
         },
         "mode": "lines",
         "name": "5",
         "orientation": "v",
         "showlegend": true,
         "type": "scatter",
         "x": [
          1.04,
          3.06,
          5.08,
          7.1,
          9.12,
          11.14,
          13.16,
          15.18,
          17.2,
          19.22,
          21.24,
          23.26,
          25.28,
          27.3,
          29.32,
          31.34,
          33.36,
          35.38,
          37.4,
          39.42,
          41.44,
          43.46,
          45.48,
          47.5,
          49.52,
          51.54,
          53.56,
          55.58,
          57.6,
          59.62
         ],
         "xaxis": "x",
         "y": [
          161,
          161,
          160.8,
          161.1,
          161.1,
          161.1,
          161.2,
          160.9,
          161.1,
          160.9,
          161.1,
          161.3,
          161.3,
          161.1,
          161.2,
          161.1,
          160.9,
          160.9,
          161.1,
          161.3,
          161.2,
          161,
          160.8,
          160.8,
          160.8,
          160.5,
          160.2,
          160.2,
          160.3,
          160.3
         ],
         "yaxis": "y"
        },
        {
         "hovertemplate": "id_ubi=5<br>variable=Temperature<br>Timestamp=%{x}<br>value=%{y}<extra></extra>",
         "legendgroup": "5",
         "line": {
          "color": "#FFA15A",
          "dash": "solid"
         },
         "marker": {
          "symbol": "circle"
         },
         "mode": "lines",
         "name": "5",
         "orientation": "v",
         "showlegend": false,
         "type": "scatter",
         "x": [
          1.04,
          3.06,
          5.08,
          7.1,
          9.12,
          11.14,
          13.16,
          15.18,
          17.2,
          19.22,
          21.24,
          23.26,
          25.28,
          27.3,
          29.32,
          31.34,
          33.36,
          35.38,
          37.4,
          39.42,
          41.44,
          43.46,
          45.48,
          47.5,
          49.52,
          51.54,
          53.56,
          55.58,
          57.6,
          59.62
         ],
         "xaxis": "x",
         "y": [
          31.6,
          31.6,
          31.6,
          31.5,
          31.5,
          31.6,
          31.6,
          31.6,
          31.6,
          31.6,
          31.6,
          31.6,
          31.6,
          31.6,
          31.6,
          31.6,
          31.6,
          31.6,
          31.6,
          31.6,
          31.5,
          31.5,
          31.6,
          31.6,
          31.6,
          31.6,
          31.6,
          31.6,
          31.6,
          31.6
         ],
         "yaxis": "y"
        },
        {
         "hovertemplate": "id_ubi=5<br>variable=Humidity<br>Timestamp=%{x}<br>value=%{y}<extra></extra>",
         "legendgroup": "5",
         "line": {
          "color": "#FFA15A",
          "dash": "solid"
         },
         "marker": {
          "symbol": "circle"
         },
         "mode": "lines",
         "name": "5",
         "orientation": "v",
         "showlegend": false,
         "type": "scatter",
         "x": [
          1.04,
          3.06,
          5.08,
          7.1,
          9.12,
          11.14,
          13.16,
          15.18,
          17.2,
          19.22,
          21.24,
          23.26,
          25.28,
          27.3,
          29.32,
          31.34,
          33.36,
          35.38,
          37.4,
          39.42,
          41.44,
          43.46,
          45.48,
          47.5,
          49.52,
          51.54,
          53.56,
          55.58,
          57.6,
          59.62
         ],
         "xaxis": "x",
         "y": [
          58.8,
          58.9,
          58.8,
          58.8,
          58.7,
          58.7,
          58.7,
          58.8,
          58.9,
          58.9,
          58.9,
          58.9,
          58.9,
          59,
          59,
          59,
          59,
          59,
          59,
          59.1,
          59.1,
          59.1,
          59.1,
          59.1,
          59.1,
          59.1,
          59.2,
          59.1,
          59,
          59
         ],
         "yaxis": "y"
        }
       ],
       "layout": {
        "legend": {
         "title": {
          "text": "id_ubi"
         },
         "tracegroupgap": 0
        },
        "margin": {
         "t": 60
        },
        "template": {
         "data": {
          "bar": [
           {
            "error_x": {
             "color": "#2a3f5f"
            },
            "error_y": {
             "color": "#2a3f5f"
            },
            "marker": {
             "line": {
              "color": "#E5ECF6",
              "width": 0.5
             },
             "pattern": {
              "fillmode": "overlay",
              "size": 10,
              "solidity": 0.2
             }
            },
            "type": "bar"
           }
          ],
          "barpolar": [
           {
            "marker": {
             "line": {
              "color": "#E5ECF6",
              "width": 0.5
             },
             "pattern": {
              "fillmode": "overlay",
              "size": 10,
              "solidity": 0.2
             }
            },
            "type": "barpolar"
           }
          ],
          "carpet": [
           {
            "aaxis": {
             "endlinecolor": "#2a3f5f",
             "gridcolor": "white",
             "linecolor": "white",
             "minorgridcolor": "white",
             "startlinecolor": "#2a3f5f"
            },
            "baxis": {
             "endlinecolor": "#2a3f5f",
             "gridcolor": "white",
             "linecolor": "white",
             "minorgridcolor": "white",
             "startlinecolor": "#2a3f5f"
            },
            "type": "carpet"
           }
          ],
          "choropleth": [
           {
            "colorbar": {
             "outlinewidth": 0,
             "ticks": ""
            },
            "type": "choropleth"
           }
          ],
          "contour": [
           {
            "colorbar": {
             "outlinewidth": 0,
             "ticks": ""
            },
            "colorscale": [
             [
              0,
              "#0d0887"
             ],
             [
              0.1111111111111111,
              "#46039f"
             ],
             [
              0.2222222222222222,
              "#7201a8"
             ],
             [
              0.3333333333333333,
              "#9c179e"
             ],
             [
              0.4444444444444444,
              "#bd3786"
             ],
             [
              0.5555555555555556,
              "#d8576b"
             ],
             [
              0.6666666666666666,
              "#ed7953"
             ],
             [
              0.7777777777777778,
              "#fb9f3a"
             ],
             [
              0.8888888888888888,
              "#fdca26"
             ],
             [
              1,
              "#f0f921"
             ]
            ],
            "type": "contour"
           }
          ],
          "contourcarpet": [
           {
            "colorbar": {
             "outlinewidth": 0,
             "ticks": ""
            },
            "type": "contourcarpet"
           }
          ],
          "heatmap": [
           {
            "colorbar": {
             "outlinewidth": 0,
             "ticks": ""
            },
            "colorscale": [
             [
              0,
              "#0d0887"
             ],
             [
              0.1111111111111111,
              "#46039f"
             ],
             [
              0.2222222222222222,
              "#7201a8"
             ],
             [
              0.3333333333333333,
              "#9c179e"
             ],
             [
              0.4444444444444444,
              "#bd3786"
             ],
             [
              0.5555555555555556,
              "#d8576b"
             ],
             [
              0.6666666666666666,
              "#ed7953"
             ],
             [
              0.7777777777777778,
              "#fb9f3a"
             ],
             [
              0.8888888888888888,
              "#fdca26"
             ],
             [
              1,
              "#f0f921"
             ]
            ],
            "type": "heatmap"
           }
          ],
          "heatmapgl": [
           {
            "colorbar": {
             "outlinewidth": 0,
             "ticks": ""
            },
            "colorscale": [
             [
              0,
              "#0d0887"
             ],
             [
              0.1111111111111111,
              "#46039f"
             ],
             [
              0.2222222222222222,
              "#7201a8"
             ],
             [
              0.3333333333333333,
              "#9c179e"
             ],
             [
              0.4444444444444444,
              "#bd3786"
             ],
             [
              0.5555555555555556,
              "#d8576b"
             ],
             [
              0.6666666666666666,
              "#ed7953"
             ],
             [
              0.7777777777777778,
              "#fb9f3a"
             ],
             [
              0.8888888888888888,
              "#fdca26"
             ],
             [
              1,
              "#f0f921"
             ]
            ],
            "type": "heatmapgl"
           }
          ],
          "histogram": [
           {
            "marker": {
             "pattern": {
              "fillmode": "overlay",
              "size": 10,
              "solidity": 0.2
             }
            },
            "type": "histogram"
           }
          ],
          "histogram2d": [
           {
            "colorbar": {
             "outlinewidth": 0,
             "ticks": ""
            },
            "colorscale": [
             [
              0,
              "#0d0887"
             ],
             [
              0.1111111111111111,
              "#46039f"
             ],
             [
              0.2222222222222222,
              "#7201a8"
             ],
             [
              0.3333333333333333,
              "#9c179e"
             ],
             [
              0.4444444444444444,
              "#bd3786"
             ],
             [
              0.5555555555555556,
              "#d8576b"
             ],
             [
              0.6666666666666666,
              "#ed7953"
             ],
             [
              0.7777777777777778,
              "#fb9f3a"
             ],
             [
              0.8888888888888888,
              "#fdca26"
             ],
             [
              1,
              "#f0f921"
             ]
            ],
            "type": "histogram2d"
           }
          ],
          "histogram2dcontour": [
           {
            "colorbar": {
             "outlinewidth": 0,
             "ticks": ""
            },
            "colorscale": [
             [
              0,
              "#0d0887"
             ],
             [
              0.1111111111111111,
              "#46039f"
             ],
             [
              0.2222222222222222,
              "#7201a8"
             ],
             [
              0.3333333333333333,
              "#9c179e"
             ],
             [
              0.4444444444444444,
              "#bd3786"
             ],
             [
              0.5555555555555556,
              "#d8576b"
             ],
             [
              0.6666666666666666,
              "#ed7953"
             ],
             [
              0.7777777777777778,
              "#fb9f3a"
             ],
             [
              0.8888888888888888,
              "#fdca26"
             ],
             [
              1,
              "#f0f921"
             ]
            ],
            "type": "histogram2dcontour"
           }
          ],
          "mesh3d": [
           {
            "colorbar": {
             "outlinewidth": 0,
             "ticks": ""
            },
            "type": "mesh3d"
           }
          ],
          "parcoords": [
           {
            "line": {
             "colorbar": {
              "outlinewidth": 0,
              "ticks": ""
             }
            },
            "type": "parcoords"
           }
          ],
          "pie": [
           {
            "automargin": true,
            "type": "pie"
           }
          ],
          "scatter": [
           {
            "fillpattern": {
             "fillmode": "overlay",
             "size": 10,
             "solidity": 0.2
            },
            "type": "scatter"
           }
          ],
          "scatter3d": [
           {
            "line": {
             "colorbar": {
              "outlinewidth": 0,
              "ticks": ""
             }
            },
            "marker": {
             "colorbar": {
              "outlinewidth": 0,
              "ticks": ""
             }
            },
            "type": "scatter3d"
           }
          ],
          "scattercarpet": [
           {
            "marker": {
             "colorbar": {
              "outlinewidth": 0,
              "ticks": ""
             }
            },
            "type": "scattercarpet"
           }
          ],
          "scattergeo": [
           {
            "marker": {
             "colorbar": {
              "outlinewidth": 0,
              "ticks": ""
             }
            },
            "type": "scattergeo"
           }
          ],
          "scattergl": [
           {
            "marker": {
             "colorbar": {
              "outlinewidth": 0,
              "ticks": ""
             }
            },
            "type": "scattergl"
           }
          ],
          "scattermapbox": [
           {
            "marker": {
             "colorbar": {
              "outlinewidth": 0,
              "ticks": ""
             }
            },
            "type": "scattermapbox"
           }
          ],
          "scatterpolar": [
           {
            "marker": {
             "colorbar": {
              "outlinewidth": 0,
              "ticks": ""
             }
            },
            "type": "scatterpolar"
           }
          ],
          "scatterpolargl": [
           {
            "marker": {
             "colorbar": {
              "outlinewidth": 0,
              "ticks": ""
             }
            },
            "type": "scatterpolargl"
           }
          ],
          "scatterternary": [
           {
            "marker": {
             "colorbar": {
              "outlinewidth": 0,
              "ticks": ""
             }
            },
            "type": "scatterternary"
           }
          ],
          "surface": [
           {
            "colorbar": {
             "outlinewidth": 0,
             "ticks": ""
            },
            "colorscale": [
             [
              0,
              "#0d0887"
             ],
             [
              0.1111111111111111,
              "#46039f"
             ],
             [
              0.2222222222222222,
              "#7201a8"
             ],
             [
              0.3333333333333333,
              "#9c179e"
             ],
             [
              0.4444444444444444,
              "#bd3786"
             ],
             [
              0.5555555555555556,
              "#d8576b"
             ],
             [
              0.6666666666666666,
              "#ed7953"
             ],
             [
              0.7777777777777778,
              "#fb9f3a"
             ],
             [
              0.8888888888888888,
              "#fdca26"
             ],
             [
              1,
              "#f0f921"
             ]
            ],
            "type": "surface"
           }
          ],
          "table": [
           {
            "cells": {
             "fill": {
              "color": "#EBF0F8"
             },
             "line": {
              "color": "white"
             }
            },
            "header": {
             "fill": {
              "color": "#C8D4E3"
             },
             "line": {
              "color": "white"
             }
            },
            "type": "table"
           }
          ]
         },
         "layout": {
          "annotationdefaults": {
           "arrowcolor": "#2a3f5f",
           "arrowhead": 0,
           "arrowwidth": 1
          },
          "autotypenumbers": "strict",
          "coloraxis": {
           "colorbar": {
            "outlinewidth": 0,
            "ticks": ""
           }
          },
          "colorscale": {
           "diverging": [
            [
             0,
             "#8e0152"
            ],
            [
             0.1,
             "#c51b7d"
            ],
            [
             0.2,
             "#de77ae"
            ],
            [
             0.3,
             "#f1b6da"
            ],
            [
             0.4,
             "#fde0ef"
            ],
            [
             0.5,
             "#f7f7f7"
            ],
            [
             0.6,
             "#e6f5d0"
            ],
            [
             0.7,
             "#b8e186"
            ],
            [
             0.8,
             "#7fbc41"
            ],
            [
             0.9,
             "#4d9221"
            ],
            [
             1,
             "#276419"
            ]
           ],
           "sequential": [
            [
             0,
             "#0d0887"
            ],
            [
             0.1111111111111111,
             "#46039f"
            ],
            [
             0.2222222222222222,
             "#7201a8"
            ],
            [
             0.3333333333333333,
             "#9c179e"
            ],
            [
             0.4444444444444444,
             "#bd3786"
            ],
            [
             0.5555555555555556,
             "#d8576b"
            ],
            [
             0.6666666666666666,
             "#ed7953"
            ],
            [
             0.7777777777777778,
             "#fb9f3a"
            ],
            [
             0.8888888888888888,
             "#fdca26"
            ],
            [
             1,
             "#f0f921"
            ]
           ],
           "sequentialminus": [
            [
             0,
             "#0d0887"
            ],
            [
             0.1111111111111111,
             "#46039f"
            ],
            [
             0.2222222222222222,
             "#7201a8"
            ],
            [
             0.3333333333333333,
             "#9c179e"
            ],
            [
             0.4444444444444444,
             "#bd3786"
            ],
            [
             0.5555555555555556,
             "#d8576b"
            ],
            [
             0.6666666666666666,
             "#ed7953"
            ],
            [
             0.7777777777777778,
             "#fb9f3a"
            ],
            [
             0.8888888888888888,
             "#fdca26"
            ],
            [
             1,
             "#f0f921"
            ]
           ]
          },
          "colorway": [
           "#636efa",
           "#EF553B",
           "#00cc96",
           "#ab63fa",
           "#FFA15A",
           "#19d3f3",
           "#FF6692",
           "#B6E880",
           "#FF97FF",
           "#FECB52"
          ],
          "font": {
           "color": "#2a3f5f"
          },
          "geo": {
           "bgcolor": "white",
           "lakecolor": "white",
           "landcolor": "#E5ECF6",
           "showlakes": true,
           "showland": true,
           "subunitcolor": "white"
          },
          "hoverlabel": {
           "align": "left"
          },
          "hovermode": "closest",
          "mapbox": {
           "style": "light"
          },
          "paper_bgcolor": "white",
          "plot_bgcolor": "#E5ECF6",
          "polar": {
           "angularaxis": {
            "gridcolor": "white",
            "linecolor": "white",
            "ticks": ""
           },
           "bgcolor": "#E5ECF6",
           "radialaxis": {
            "gridcolor": "white",
            "linecolor": "white",
            "ticks": ""
           }
          },
          "scene": {
           "xaxis": {
            "backgroundcolor": "#E5ECF6",
            "gridcolor": "white",
            "gridwidth": 2,
            "linecolor": "white",
            "showbackground": true,
            "ticks": "",
            "zerolinecolor": "white"
           },
           "yaxis": {
            "backgroundcolor": "#E5ECF6",
            "gridcolor": "white",
            "gridwidth": 2,
            "linecolor": "white",
            "showbackground": true,
            "ticks": "",
            "zerolinecolor": "white"
           },
           "zaxis": {
            "backgroundcolor": "#E5ECF6",
            "gridcolor": "white",
            "gridwidth": 2,
            "linecolor": "white",
            "showbackground": true,
            "ticks": "",
            "zerolinecolor": "white"
           }
          },
          "shapedefaults": {
           "line": {
            "color": "#2a3f5f"
           }
          },
          "ternary": {
           "aaxis": {
            "gridcolor": "white",
            "linecolor": "white",
            "ticks": ""
           },
           "baxis": {
            "gridcolor": "white",
            "linecolor": "white",
            "ticks": ""
           },
           "bgcolor": "#E5ECF6",
           "caxis": {
            "gridcolor": "white",
            "linecolor": "white",
            "ticks": ""
           }
          },
          "title": {
           "x": 0.05
          },
          "xaxis": {
           "automargin": true,
           "gridcolor": "white",
           "linecolor": "white",
           "ticks": "",
           "title": {
            "standoff": 15
           },
           "zerolinecolor": "white",
           "zerolinewidth": 2
          },
          "yaxis": {
           "automargin": true,
           "gridcolor": "white",
           "linecolor": "white",
           "ticks": "",
           "title": {
            "standoff": 15
           },
           "zerolinecolor": "white",
           "zerolinewidth": 2
          }
         }
        },
        "title": {
         "text": "Sensor Data by id_ubi"
        },
        "xaxis": {
         "anchor": "y",
         "domain": [
          0,
          1
         ],
         "title": {
          "text": "Time"
         }
        },
        "yaxis": {
         "anchor": "x",
         "domain": [
          0,
          1
         ],
         "title": {
          "text": "Value"
         }
        }
       }
      }
     },
     "metadata": {},
     "output_type": "display_data"
    }
   ],
   "source": [
    "def load_data(csv_file_path):\n",
    "    # Cargar los datos del archivo CSV en un DataFrame de Pandas\n",
    "    df = pd.read_csv(csv_file_path)\n",
    "    return df\n",
    "\n",
    "def plot_data_by_id_ubi(df):\n",
    "    # Crear una figura con Plotly Express para visualizar los datos por id_ubi\n",
    "    fig = px.line(df, x='Timestamp', y=['CO2', 'Temperature', 'Humidity'], color='id_ubi')\n",
    "\n",
    "    # Actualizar las opciones de diseño\n",
    "    fig.update_layout(\n",
    "        title='Sensor Data by id_ubi',\n",
    "        xaxis=dict(title='Time'),\n",
    "        yaxis=dict(title='Value'),\n",
    "    )\n",
    "\n",
    "    # Mostrar el gráfico\n",
    "    fig.show()\n",
    "\n",
    "csv_file_path = \"results.csv\" \n",
    "\n",
    "\n",
    "data = load_data(csv_file_path)\n",
    "\n",
    "plot_data_by_id_ubi(data)\n"
   ]
  },
  {
   "cell_type": "code",
   "execution_count": null,
   "metadata": {},
   "outputs": [
    {
     "data": {
      "image/png": "[encoded data removed]",
      "text/plain": [
       "<Figure size 800x600 with 2 Axes>"
      ]
     },
     "metadata": {},
     "output_type": "display_data"
    }
   ],
   "source": [
    "def plot_correlation_matrix(df):\n",
    "    # Matriz de correlación\n",
    "    corr_matrix = df[['CO2', 'Temperature', 'Humidity']].corr()\n",
    "\n",
    "\n",
    "    fig, ax = plt.subplots(figsize=(8, 6))\n",
    "    sns.heatmap(corr_matrix, annot=True, cmap='coolwarm', ax=ax)\n",
    "\n",
    "\n",
    "    ax.set_title('Correlation Matrix')\n",
    "\n",
    "\n",
    "    plt.show()\n",
    "\n",
    "plot_correlation_matrix(data)\n"
   ]
  },
  {
   "cell_type": "code",
   "execution_count": null,
   "metadata": {},
   "outputs": [
    {
     "data": {
      "application/vnd.plotly.v1+json": {
       "config": {
        "plotlyServerURL": "https://plot.ly"
       },
       "data": [
        {
         "alignmentgroup": "True",
         "hovertemplate": "variable=CO2<br>id_ubi=%{x}<br>Average Value=%{y}<extra></extra>",
         "legendgroup": "CO2",
         "marker": {
          "color": "#636efa",
          "pattern": {
           "shape": ""
          }
         },
         "name": "CO2",
         "offsetgroup": "CO2",
         "orientation": "v",
         "showlegend": true,
         "textposition": "auto",
         "type": "bar",
         "x": [
          1,
          2,
          3,
          4,
          5
         ],
         "xaxis": "x",
         "y": [
          162.67999999999998,
          166.42333333333332,
          149.82000000000002,
          162.81,
          160.92000000000002
         ],
         "yaxis": "y"
        },
        {
         "alignmentgroup": "True",
         "hovertemplate": "variable=Temperature<br>id_ubi=%{x}<br>Average Value=%{y}<extra></extra>",
         "legendgroup": "Temperature",
         "marker": {
          "color": "#EF553B",
          "pattern": {
           "shape": ""
          }
         },
         "name": "Temperature",
         "offsetgroup": "Temperature",
         "orientation": "v",
         "showlegend": true,
         "textposition": "auto",
         "type": "bar",
         "x": [
          1,
          2,
          3,
          4,
          5
         ],
         "xaxis": "x",
         "y": [
          32,
          31.720000000000002,
          31.439999999999998,
          31.476666666666667,
          31.586666666666666
         ],
         "yaxis": "y"
        },
        {
         "alignmentgroup": "True",
         "hovertemplate": "variable=Humidity<br>id_ubi=%{x}<br>Average Value=%{y}<extra></extra>",
         "legendgroup": "Humidity",
         "marker": {
          "color": "#00cc96",
          "pattern": {
           "shape": ""
          }
         },
         "name": "Humidity",
         "offsetgroup": "Humidity",
         "orientation": "v",
         "showlegend": true,
         "textposition": "auto",
         "type": "bar",
         "x": [
          1,
          2,
          3,
          4,
          5
         ],
         "xaxis": "x",
         "y": [
          60.47666666666667,
          62.61,
          61.45,
          59.94666666666667,
          58.95666666666667
         ],
         "yaxis": "y"
        }
       ],
       "layout": {
        "barmode": "group",
        "legend": {
         "title": {
          "text": "variable"
         },
         "tracegroupgap": 0
        },
        "template": {
         "data": {
          "bar": [
           {
            "error_x": {
             "color": "#2a3f5f"
            },
            "error_y": {
             "color": "#2a3f5f"
            },
            "marker": {
             "line": {
              "color": "#E5ECF6",
              "width": 0.5
             },
             "pattern": {
              "fillmode": "overlay",
              "size": 10,
              "solidity": 0.2
             }
            },
            "type": "bar"
           }
          ],
          "barpolar": [
           {
            "marker": {
             "line": {
              "color": "#E5ECF6",
              "width": 0.5
             },
             "pattern": {
              "fillmode": "overlay",
              "size": 10,
              "solidity": 0.2
             }
            },
            "type": "barpolar"
           }
          ],
          "carpet": [
           {
            "aaxis": {
             "endlinecolor": "#2a3f5f",
             "gridcolor": "white",
             "linecolor": "white",
             "minorgridcolor": "white",
             "startlinecolor": "#2a3f5f"
            },
            "baxis": {
             "endlinecolor": "#2a3f5f",
             "gridcolor": "white",
             "linecolor": "white",
             "minorgridcolor": "white",
             "startlinecolor": "#2a3f5f"
            },
            "type": "carpet"
           }
          ],
          "choropleth": [
           {
            "colorbar": {
             "outlinewidth": 0,
             "ticks": ""
            },
            "type": "choropleth"
           }
          ],
          "contour": [
           {
            "colorbar": {
             "outlinewidth": 0,
             "ticks": ""
            },
            "colorscale": [
             [
              0,
              "#0d0887"
             ],
             [
              0.1111111111111111,
              "#46039f"
             ],
             [
              0.2222222222222222,
              "#7201a8"
             ],
             [
              0.3333333333333333,
              "#9c179e"
             ],
             [
              0.4444444444444444,
              "#bd3786"
             ],
             [
              0.5555555555555556,
              "#d8576b"
             ],
             [
              0.6666666666666666,
              "#ed7953"
             ],
             [
              0.7777777777777778,
              "#fb9f3a"
             ],
             [
              0.8888888888888888,
              "#fdca26"
             ],
             [
              1,
              "#f0f921"
             ]
            ],
            "type": "contour"
           }
          ],
          "contourcarpet": [
           {
            "colorbar": {
             "outlinewidth": 0,
             "ticks": ""
            },
            "type": "contourcarpet"
           }
          ],
          "heatmap": [
           {
            "colorbar": {
             "outlinewidth": 0,
             "ticks": ""
            },
            "colorscale": [
             [
              0,
              "#0d0887"
             ],
             [
              0.1111111111111111,
              "#46039f"
             ],
             [
              0.2222222222222222,
              "#7201a8"
             ],
             [
              0.3333333333333333,
              "#9c179e"
             ],
             [
              0.4444444444444444,
              "#bd3786"
             ],
             [
              0.5555555555555556,
              "#d8576b"
             ],
             [
              0.6666666666666666,
              "#ed7953"
             ],
             [
              0.7777777777777778,
              "#fb9f3a"
             ],
             [
              0.8888888888888888,
              "#fdca26"
             ],
             [
              1,
              "#f0f921"
             ]
            ],
            "type": "heatmap"
           }
          ],
          "heatmapgl": [
           {
            "colorbar": {
             "outlinewidth": 0,
             "ticks": ""
            },
            "colorscale": [
             [
              0,
              "#0d0887"
             ],
             [
              0.1111111111111111,
              "#46039f"
             ],
             [
              0.2222222222222222,
              "#7201a8"
             ],
             [
              0.3333333333333333,
              "#9c179e"
             ],
             [
              0.4444444444444444,
              "#bd3786"
             ],
             [
              0.5555555555555556,
              "#d8576b"
             ],
             [
              0.6666666666666666,
              "#ed7953"
             ],
             [
              0.7777777777777778,
              "#fb9f3a"
             ],
             [
              0.8888888888888888,
              "#fdca26"
             ],
             [
              1,
              "#f0f921"
             ]
            ],
            "type": "heatmapgl"
           }
          ],
          "histogram": [
           {
            "marker": {
             "pattern": {
              "fillmode": "overlay",
              "size": 10,
              "solidity": 0.2
             }
            },
            "type": "histogram"
           }
          ],
          "histogram2d": [
           {
            "colorbar": {
             "outlinewidth": 0,
             "ticks": ""
            },
            "colorscale": [
             [
              0,
              "#0d0887"
             ],
             [
              0.1111111111111111,
              "#46039f"
             ],
             [
              0.2222222222222222,
              "#7201a8"
             ],
             [
              0.3333333333333333,
              "#9c179e"
             ],
             [
              0.4444444444444444,
              "#bd3786"
             ],
             [
              0.5555555555555556,
              "#d8576b"
             ],
             [
              0.6666666666666666,
              "#ed7953"
             ],
             [
              0.7777777777777778,
              "#fb9f3a"
             ],
             [
              0.8888888888888888,
              "#fdca26"
             ],
             [
              1,
              "#f0f921"
             ]
            ],
            "type": "histogram2d"
           }
          ],
          "histogram2dcontour": [
           {
            "colorbar": {
             "outlinewidth": 0,
             "ticks": ""
            },
            "colorscale": [
             [
              0,
              "#0d0887"
             ],
             [
              0.1111111111111111,
              "#46039f"
             ],
             [
              0.2222222222222222,
              "#7201a8"
             ],
             [
              0.3333333333333333,
              "#9c179e"
             ],
             [
              0.4444444444444444,
              "#bd3786"
             ],
             [
              0.5555555555555556,
              "#d8576b"
             ],
             [
              0.6666666666666666,
              "#ed7953"
             ],
             [
              0.7777777777777778,
              "#fb9f3a"
             ],
             [
              0.8888888888888888,
              "#fdca26"
             ],
             [
              1,
              "#f0f921"
             ]
            ],
            "type": "histogram2dcontour"
           }
          ],
          "mesh3d": [
           {
            "colorbar": {
             "outlinewidth": 0,
             "ticks": ""
            },
            "type": "mesh3d"
           }
          ],
          "parcoords": [
           {
            "line": {
             "colorbar": {
              "outlinewidth": 0,
              "ticks": ""
             }
            },
            "type": "parcoords"
           }
          ],
          "pie": [
           {
            "automargin": true,
            "type": "pie"
           }
          ],
          "scatter": [
           {
            "fillpattern": {
             "fillmode": "overlay",
             "size": 10,
             "solidity": 0.2
            },
            "type": "scatter"
           }
          ],
          "scatter3d": [
           {
            "line": {
             "colorbar": {
              "outlinewidth": 0,
              "ticks": ""
             }
            },
            "marker": {
             "colorbar": {
              "outlinewidth": 0,
              "ticks": ""
             }
            },
            "type": "scatter3d"
           }
          ],
          "scattercarpet": [
           {
            "marker": {
             "colorbar": {
              "outlinewidth": 0,
              "ticks": ""
             }
            },
            "type": "scattercarpet"
           }
          ],
          "scattergeo": [
           {
            "marker": {
             "colorbar": {
              "outlinewidth": 0,
              "ticks": ""
             }
            },
            "type": "scattergeo"
           }
          ],
          "scattergl": [
           {
            "marker": {
             "colorbar": {
              "outlinewidth": 0,
              "ticks": ""
             }
            },
            "type": "scattergl"
           }
          ],
          "scattermapbox": [
           {
            "marker": {
             "colorbar": {
              "outlinewidth": 0,
              "ticks": ""
             }
            },
            "type": "scattermapbox"
           }
          ],
          "scatterpolar": [
           {
            "marker": {
             "colorbar": {
              "outlinewidth": 0,
              "ticks": ""
             }
            },
            "type": "scatterpolar"
           }
          ],
          "scatterpolargl": [
           {
            "marker": {
             "colorbar": {
              "outlinewidth": 0,
              "ticks": ""
             }
            },
            "type": "scatterpolargl"
           }
          ],
          "scatterternary": [
           {
            "marker": {
             "colorbar": {
              "outlinewidth": 0,
              "ticks": ""
             }
            },
            "type": "scatterternary"
           }
          ],
          "surface": [
           {
            "colorbar": {
             "outlinewidth": 0,
             "ticks": ""
            },
            "colorscale": [
             [
              0,
              "#0d0887"
             ],
             [
              0.1111111111111111,
              "#46039f"
             ],
             [
              0.2222222222222222,
              "#7201a8"
             ],
             [
              0.3333333333333333,
              "#9c179e"
             ],
             [
              0.4444444444444444,
              "#bd3786"
             ],
             [
              0.5555555555555556,
              "#d8576b"
             ],
             [
              0.6666666666666666,
              "#ed7953"
             ],
             [
              0.7777777777777778,
              "#fb9f3a"
             ],
             [
              0.8888888888888888,
              "#fdca26"
             ],
             [
              1,
              "#f0f921"
             ]
            ],
            "type": "surface"
           }
          ],
          "table": [
           {
            "cells": {
             "fill": {
              "color": "#EBF0F8"
             },
             "line": {
              "color": "white"
             }
            },
            "header": {
             "fill": {
              "color": "#C8D4E3"
             },
             "line": {
              "color": "white"
             }
            },
            "type": "table"
           }
          ]
         },
         "layout": {
          "annotationdefaults": {
           "arrowcolor": "#2a3f5f",
           "arrowhead": 0,
           "arrowwidth": 1
          },
          "autotypenumbers": "strict",
          "coloraxis": {
           "colorbar": {
            "outlinewidth": 0,
            "ticks": ""
           }
          },
          "colorscale": {
           "diverging": [
            [
             0,
             "#8e0152"
            ],
            [
             0.1,
             "#c51b7d"
            ],
            [
             0.2,
             "#de77ae"
            ],
            [
             0.3,
             "#f1b6da"
            ],
            [
             0.4,
             "#fde0ef"
            ],
            [
             0.5,
             "#f7f7f7"
            ],
            [
             0.6,
             "#e6f5d0"
            ],
            [
             0.7,
             "#b8e186"
            ],
            [
             0.8,
             "#7fbc41"
            ],
            [
             0.9,
             "#4d9221"
            ],
            [
             1,
             "#276419"
            ]
           ],
           "sequential": [
            [
             0,
             "#0d0887"
            ],
            [
             0.1111111111111111,
             "#46039f"
            ],
            [
             0.2222222222222222,
             "#7201a8"
            ],
            [
             0.3333333333333333,
             "#9c179e"
            ],
            [
             0.4444444444444444,
             "#bd3786"
            ],
            [
             0.5555555555555556,
             "#d8576b"
            ],
            [
             0.6666666666666666,
             "#ed7953"
            ],
            [
             0.7777777777777778,
             "#fb9f3a"
            ],
            [
             0.8888888888888888,
             "#fdca26"
            ],
            [
             1,
             "#f0f921"
            ]
           ],
           "sequentialminus": [
            [
             0,
             "#0d0887"
            ],
            [
             0.1111111111111111,
             "#46039f"
            ],
            [
             0.2222222222222222,
             "#7201a8"
            ],
            [
             0.3333333333333333,
             "#9c179e"
            ],
            [
             0.4444444444444444,
             "#bd3786"
            ],
            [
             0.5555555555555556,
             "#d8576b"
            ],
            [
             0.6666666666666666,
             "#ed7953"
            ],
            [
             0.7777777777777778,
             "#fb9f3a"
            ],
            [
             0.8888888888888888,
             "#fdca26"
            ],
            [
             1,
             "#f0f921"
            ]
           ]
          },
          "colorway": [
           "#636efa",
           "#EF553B",
           "#00cc96",
           "#ab63fa",
           "#FFA15A",
           "#19d3f3",
           "#FF6692",
           "#B6E880",
           "#FF97FF",
           "#FECB52"
          ],
          "font": {
           "color": "#2a3f5f"
          },
          "geo": {
           "bgcolor": "white",
           "lakecolor": "white",
           "landcolor": "#E5ECF6",
           "showlakes": true,
           "showland": true,
           "subunitcolor": "white"
          },
          "hoverlabel": {
           "align": "left"
          },
          "hovermode": "closest",
          "mapbox": {
           "style": "light"
          },
          "paper_bgcolor": "white",
          "plot_bgcolor": "#E5ECF6",
          "polar": {
           "angularaxis": {
            "gridcolor": "white",
            "linecolor": "white",
            "ticks": ""
           },
           "bgcolor": "#E5ECF6",
           "radialaxis": {
            "gridcolor": "white",
            "linecolor": "white",
            "ticks": ""
           }
          },
          "scene": {
           "xaxis": {
            "backgroundcolor": "#E5ECF6",
            "gridcolor": "white",
            "gridwidth": 2,
            "linecolor": "white",
            "showbackground": true,
            "ticks": "",
            "zerolinecolor": "white"
           },
           "yaxis": {
            "backgroundcolor": "#E5ECF6",
            "gridcolor": "white",
            "gridwidth": 2,
            "linecolor": "white",
            "showbackground": true,
            "ticks": "",
            "zerolinecolor": "white"
           },
           "zaxis": {
            "backgroundcolor": "#E5ECF6",
            "gridcolor": "white",
            "gridwidth": 2,
            "linecolor": "white",
            "showbackground": true,
            "ticks": "",
            "zerolinecolor": "white"
           }
          },
          "shapedefaults": {
           "line": {
            "color": "#2a3f5f"
           }
          },
          "ternary": {
           "aaxis": {
            "gridcolor": "white",
            "linecolor": "white",
            "ticks": ""
           },
           "baxis": {
            "gridcolor": "white",
            "linecolor": "white",
            "ticks": ""
           },
           "bgcolor": "#E5ECF6",
           "caxis": {
            "gridcolor": "white",
            "linecolor": "white",
            "ticks": ""
           }
          },
          "title": {
           "x": 0.05
          },
          "xaxis": {
           "automargin": true,
           "gridcolor": "white",
           "linecolor": "white",
           "ticks": "",
           "title": {
            "standoff": 15
           },
           "zerolinecolor": "white",
           "zerolinewidth": 2
          },
          "yaxis": {
           "automargin": true,
           "gridcolor": "white",
           "linecolor": "white",
           "ticks": "",
           "title": {
            "standoff": 15
           },
           "zerolinecolor": "white",
           "zerolinewidth": 2
          }
         }
        },
        "title": {
         "text": "Average Values by id_ubi"
        },
        "xaxis": {
         "anchor": "y",
         "domain": [
          0,
          1
         ],
         "title": {
          "text": "id_ubi"
         }
        },
        "yaxis": {
         "anchor": "x",
         "domain": [
          0,
          1
         ],
         "title": {
          "text": "Average Value"
         }
        }
       }
      }
     },
     "metadata": {},
     "output_type": "display_data"
    }
   ],
   "source": [
    "def plot_bar_comparison(df):\n",
    "    # Promedios por ubicación\n",
    "    avg_values = df.groupby('id_ubi')[['CO2', 'Temperature', 'Humidity']].mean().reset_index()\n",
    "\n",
    "\n",
    "    fig = px.bar(avg_values, x='id_ubi', y=['CO2', 'Temperature', 'Humidity'],\n",
    "                 barmode='group', labels={'value': 'Average Value'},\n",
    "                 title='Average Values by id_ubi')\n",
    "\n",
    "\n",
    "    fig.show()\n",
    "\n",
    "plot_bar_comparison(data)\n"
   ]
  },
  {
   "cell_type": "code",
   "execution_count": null,
   "metadata": {},
   "outputs": [],
   "source": []
  }
 ],
 "metadata": {
  "kernelspec": {
   "display_name": "Python 3",
   "language": "python",
   "name": "python3"
  },
  "language_info": {
   "codemirror_mode": {
    "name": "ipython",
    "version": 3
   },
   "file_extension": ".py",
   "mimetype": "text/x-python",
   "name": "python",
   "nbconvert_exporter": "python",
   "pygments_lexer": "ipython3",
   "version": "3.12.5"
  },
  "orig_nbformat": 4
 },
 "nbformat": 4,
 "nbformat_minor": 2
}
