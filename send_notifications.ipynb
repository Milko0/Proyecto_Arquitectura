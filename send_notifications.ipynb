{
 "cells": [
  {
   "cell_type": "code",
   "execution_count": 10,
   "metadata": {},
   "outputs": [],
   "source": [
    "import csv\n",
    "import time\n",
    "import plotly.express as px\n",
    "import plotly.graph_objects as go\n",
    "from IPython.display import display, clear_output\n",
    "import pandas as pd"
   ]
  },
  {
   "cell_type": "markdown",
   "metadata": {},
   "source": [
    "### Cargar Data"
   ]
  },
  {
   "cell_type": "code",
   "execution_count": 11,
   "metadata": {},
   "outputs": [
    {
     "data": {
      "application/vnd.plotly.v1+json": {
       "config": {
        "plotlyServerURL": "https://plot.ly"
       },
       "data": [
        {
         "hovertemplate": "id_ubi=1<br>variable=CO2<br>Timestamp=%{x}<br>value=%{y}<extra></extra>",
         "legendgroup": "1",
         "line": {
          "color": "#636efa",
          "dash": "solid"
         },
         "marker": {
          "symbol": "circle"
         },
         "mode": "lines",
         "name": "1",
         "orientation": "v",
         "showlegend": true,
         "type": "scatter",
         "x": [
          1.04,
          3.06,
          5.08,
          7.1,
          9.12,
          11.14,
          13.16,
          15.18,
          17.2,
          19.22,
          21.24,
          23.26,
          25.28,
          27.3,
          29.32,
          31.34,
          33.36,
          35.38,
          37.4,
          39.42,
          41.44,
          43.46,
          45.48,
          47.5,
          49.52,
          51.54,
          53.56,
          55.58,
          57.6,
          59.62
         ],
         "xaxis": "x",
         "y": [
          163.1,
          162.9,
          162.9,
          163.1,
          162.9,
          162.7,
          162.6,
          162.4,
          162.7,
          162.5,
          162.7,
          162.6,
          162.4,
          162.2,
          162.1,
          162.4,
          162.6,
          162.8,
          162.9,
          162.7,
          162.6,
          162.8,
          162.9,
          162.8,
          162.5,
          162.7,
          162.7,
          162.9,
          162.6,
          162.7
         ],
         "yaxis": "y"
        },
        {
         "hovertemplate": "id_ubi=1<br>variable=Temperature<br>Timestamp=%{x}<br>value=%{y}<extra></extra>",
         "legendgroup": "1",
         "line": {
          "color": "#636efa",
          "dash": "solid"
         },
         "marker": {
          "symbol": "circle"
         },
         "mode": "lines",
         "name": "1",
         "orientation": "v",
         "showlegend": false,
         "type": "scatter",
         "x": [
          1.04,
          3.06,
          5.08,
          7.1,
          9.12,
          11.14,
          13.16,
          15.18,
          17.2,
          19.22,
          21.24,
          23.26,
          25.28,
          27.3,
          29.32,
          31.34,
          33.36,
          35.38,
          37.4,
          39.42,
          41.44,
          43.46,
          45.48,
          47.5,
          49.52,
          51.54,
          53.56,
          55.58,
          57.6,
          59.62
         ],
         "xaxis": "x",
         "y": [
          32,
          32,
          32,
          32,
          32,
          32,
          32,
          32,
          32,
          32,
          32,
          32,
          32,
          32,
          32,
          32,
          32,
          32,
          32,
          32,
          32,
          32,
          32,
          32,
          32,
          32,
          32,
          32,
          32,
          32
         ],
         "yaxis": "y"
        },
        {
         "hovertemplate": "id_ubi=1<br>variable=Humidity<br>Timestamp=%{x}<br>value=%{y}<extra></extra>",
         "legendgroup": "1",
         "line": {
          "color": "#636efa",
          "dash": "solid"
         },
         "marker": {
          "symbol": "circle"
         },
         "mode": "lines",
         "name": "1",
         "orientation": "v",
         "showlegend": false,
         "type": "scatter",
         "x": [
          1.04,
          3.06,
          5.08,
          7.1,
          9.12,
          11.14,
          13.16,
          15.18,
          17.2,
          19.22,
          21.24,
          23.26,
          25.28,
          27.3,
          29.32,
          31.34,
          33.36,
          35.38,
          37.4,
          39.42,
          41.44,
          43.46,
          45.48,
          47.5,
          49.52,
          51.54,
          53.56,
          55.58,
          57.6,
          59.62
         ],
         "xaxis": "x",
         "y": [
          60.7,
          60.7,
          60.7,
          60.7,
          60.7,
          60.7,
          60.8,
          60.7,
          60.7,
          60.7,
          60.7,
          60.6,
          60.5,
          60.5,
          60.4,
          60.4,
          60.4,
          60.3,
          60.3,
          60.2,
          60.2,
          60.2,
          60.2,
          60.3,
          60.3,
          60.4,
          60.4,
          60.3,
          60.3,
          60.3
         ],
         "yaxis": "y"
        },
        {
         "hovertemplate": "id_ubi=2<br>variable=CO2<br>Timestamp=%{x}<br>value=%{y}<extra></extra>",
         "legendgroup": "2",
         "line": {
          "color": "#EF553B",
          "dash": "solid"
         },
         "marker": {
          "symbol": "circle"
         },
         "mode": "lines",
         "name": "2",
         "orientation": "v",
         "showlegend": true,
         "type": "scatter",
         "x": [
          1.04,
          3.06,
          5.08,
          7.1,
          9.12,
          11.14,
          13.16,
          15.18,
          17.2,
          19.22,
          21.24,
          23.26,
          25.28,
          27.3,
          29.32,
          31.34,
          33.36,
          35.38,
          37.4,
          39.42,
          41.44,
          43.46,
          45.48,
          47.5,
          49.52,
          51.54,
          53.56,
          55.58,
          57.6,
          59.62
         ],
         "xaxis": "x",
         "y": [
          165.7,
          165.5,
          165.6,
          165.7,
          165.9,
          166,
          166.3,
          166.4,
          166.5,
          166.6,
          166.6,
          166.9,
          167.1,
          167,
          166.8,
          166.6,
          166.4,
          166.5,
          166.6,
          166.6,
          166.4,
          166.3,
          166.2,
          166.3,
          166.3,
          166.6,
          166.8,
          166.9,
          166.9,
          166.7
         ],
         "yaxis": "y"
        },
        {
         "hovertemplate": "id_ubi=2<br>variable=Temperature<br>Timestamp=%{x}<br>value=%{y}<extra></extra>",
         "legendgroup": "2",
         "line": {
          "color": "#EF553B",
          "dash": "solid"
         },
         "marker": {
          "symbol": "circle"
         },
         "mode": "lines",
         "name": "2",
         "orientation": "v",
         "showlegend": false,
         "type": "scatter",
         "x": [
          1.04,
          3.06,
          5.08,
          7.1,
          9.12,
          11.14,
          13.16,
          15.18,
          17.2,
          19.22,
          21.24,
          23.26,
          25.28,
          27.3,
          29.32,
          31.34,
          33.36,
          35.38,
          37.4,
          39.42,
          41.44,
          43.46,
          45.48,
          47.5,
          49.52,
          51.54,
          53.56,
          55.58,
          57.6,
          59.62
         ],
         "xaxis": "x",
         "y": [
          31.7,
          31.7,
          31.7,
          31.7,
          31.7,
          31.7,
          31.7,
          31.7,
          31.8,
          31.8,
          31.8,
          31.8,
          31.8,
          31.8,
          31.7,
          31.7,
          31.7,
          31.7,
          31.7,
          31.7,
          31.7,
          31.7,
          31.7,
          31.7,
          31.7,
          31.7,
          31.7,
          31.7,
          31.7,
          31.7
         ],
         "yaxis": "y"
        },
        {
         "hovertemplate": "id_ubi=2<br>variable=Humidity<br>Timestamp=%{x}<br>value=%{y}<extra></extra>",
         "legendgroup": "2",
         "line": {
          "color": "#EF553B",
          "dash": "solid"
         },
         "marker": {
          "symbol": "circle"
         },
         "mode": "lines",
         "name": "2",
         "orientation": "v",
         "showlegend": false,
         "type": "scatter",
         "x": [
          1.04,
          3.06,
          5.08,
          7.1,
          9.12,
          11.14,
          13.16,
          15.18,
          17.2,
          19.22,
          21.24,
          23.26,
          25.28,
          27.3,
          29.32,
          31.34,
          33.36,
          35.38,
          37.4,
          39.42,
          41.44,
          43.46,
          45.48,
          47.5,
          49.52,
          51.54,
          53.56,
          55.58,
          57.6,
          59.62
         ],
         "xaxis": "x",
         "y": [
          62.4,
          62.4,
          62.4,
          62.4,
          62.5,
          62.6,
          62.6,
          62.6,
          62.6,
          62.6,
          62.6,
          62.7,
          62.7,
          62.8,
          62.9,
          62.9,
          62.8,
          62.7,
          62.8,
          62.7,
          62.6,
          62.5,
          62.5,
          62.5,
          62.5,
          62.5,
          62.6,
          62.6,
          62.6,
          62.7
         ],
         "yaxis": "y"
        },
        {
         "hovertemplate": "id_ubi=3<br>variable=CO2<br>Timestamp=%{x}<br>value=%{y}<extra></extra>",
         "legendgroup": "3",
         "line": {
          "color": "#00cc96",
          "dash": "solid"
         },
         "marker": {
          "symbol": "circle"
         },
         "mode": "lines",
         "name": "3",
         "orientation": "v",
         "showlegend": true,
         "type": "scatter",
         "x": [
          1.04,
          3.06,
          5.08,
          7.1,
          9.12,
          11.14,
          13.16,
          15.18,
          17.2,
          19.22,
          21.24,
          23.26,
          25.28,
          27.3,
          29.32,
          31.34,
          33.36,
          35.38,
          37.4,
          39.42,
          41.44,
          43.46,
          45.48,
          47.5,
          49.52,
          51.54,
          53.56,
          55.58,
          57.6,
          59.62
         ],
         "xaxis": "x",
         "y": [
          150.1,
          149.9,
          149.9,
          149.9,
          150.2,
          150.1,
          149.9,
          150,
          149.8,
          149.6,
          149.6,
          149.5,
          149.6,
          149.8,
          149.7,
          149.8,
          149.9,
          149.8,
          149.7,
          149.7,
          149.7,
          149.9,
          149.7,
          149.9,
          150.1,
          149.8,
          149.8,
          149.9,
          149.7,
          149.6
         ],
         "yaxis": "y"
        },
        {
         "hovertemplate": "id_ubi=3<br>variable=Temperature<br>Timestamp=%{x}<br>value=%{y}<extra></extra>",
         "legendgroup": "3",
         "line": {
          "color": "#00cc96",
          "dash": "solid"
         },
         "marker": {
          "symbol": "circle"
         },
         "mode": "lines",
         "name": "3",
         "orientation": "v",
         "showlegend": false,
         "type": "scatter",
         "x": [
          1.04,
          3.06,
          5.08,
          7.1,
          9.12,
          11.14,
          13.16,
          15.18,
          17.2,
          19.22,
          21.24,
          23.26,
          25.28,
          27.3,
          29.32,
          31.34,
          33.36,
          35.38,
          37.4,
          39.42,
          41.44,
          43.46,
          45.48,
          47.5,
          49.52,
          51.54,
          53.56,
          55.58,
          57.6,
          59.62
         ],
         "xaxis": "x",
         "y": [
          31.4,
          31.5,
          31.5,
          31.5,
          31.5,
          31.4,
          31.4,
          31.4,
          31.4,
          31.4,
          31.4,
          31.4,
          31.4,
          31.4,
          31.4,
          31.4,
          31.5,
          31.5,
          31.5,
          31.6,
          31.6,
          31.5,
          31.4,
          31.4,
          31.4,
          31.4,
          31.4,
          31.4,
          31.4,
          31.4
         ],
         "yaxis": "y"
        },
        {
         "hovertemplate": "id_ubi=3<br>variable=Humidity<br>Timestamp=%{x}<br>value=%{y}<extra></extra>",
         "legendgroup": "3",
         "line": {
          "color": "#00cc96",
          "dash": "solid"
         },
         "marker": {
          "symbol": "circle"
         },
         "mode": "lines",
         "name": "3",
         "orientation": "v",
         "showlegend": false,
         "type": "scatter",
         "x": [
          1.04,
          3.06,
          5.08,
          7.1,
          9.12,
          11.14,
          13.16,
          15.18,
          17.2,
          19.22,
          21.24,
          23.26,
          25.28,
          27.3,
          29.32,
          31.34,
          33.36,
          35.38,
          37.4,
          39.42,
          41.44,
          43.46,
          45.48,
          47.5,
          49.52,
          51.54,
          53.56,
          55.58,
          57.6,
          59.62
         ],
         "xaxis": "x",
         "y": [
          61.3,
          61.2,
          61.2,
          61.2,
          61.2,
          61.2,
          61.3,
          61.3,
          61.3,
          61.2,
          61.2,
          61.2,
          61.3,
          61.3,
          61.4,
          61.4,
          61.5,
          61.6,
          61.6,
          61.6,
          61.6,
          61.6,
          61.6,
          61.6,
          61.7,
          61.7,
          61.8,
          61.8,
          61.8,
          61.8
         ],
         "yaxis": "y"
        },
        {
         "hovertemplate": "id_ubi=4<br>variable=CO2<br>Timestamp=%{x}<br>value=%{y}<extra></extra>",
         "legendgroup": "4",
         "line": {
          "color": "#ab63fa",
          "dash": "solid"
         },
         "marker": {
          "symbol": "circle"
         },
         "mode": "lines",
         "name": "4",
         "orientation": "v",
         "showlegend": true,
         "type": "scatter",
         "x": [
          1.04,
          3.06,
          5.08,
          7.1,
          9.12,
          11.14,
          13.16,
          15.18,
          17.2,
          19.22,
          21.24,
          23.26,
          25.28,
          27.3,
          29.32,
          31.34,
          33.36,
          35.38,
          37.4,
          39.42,
          41.44,
          43.46,
          45.48,
          47.5,
          49.52,
          51.54,
          53.56,
          55.58,
          57.6,
          59.62
         ],
         "xaxis": "x",
         "y": [
          163.1,
          162.9,
          163.1,
          163.1,
          163,
          163.2,
          163,
          162.9,
          163.2,
          163.1,
          162.9,
          162.9,
          162.6,
          162.5,
          162.6,
          162.7,
          162.6,
          162.7,
          162.6,
          162.6,
          162.5,
          162.8,
          162.8,
          162.9,
          162.7,
          162.5,
          162.7,
          162.9,
          162.6,
          162.6
         ],
         "yaxis": "y"
        },
        {
         "hovertemplate": "id_ubi=4<br>variable=Temperature<br>Timestamp=%{x}<br>value=%{y}<extra></extra>",
         "legendgroup": "4",
         "line": {
          "color": "#ab63fa",
          "dash": "solid"
         },
         "marker": {
          "symbol": "circle"
         },
         "mode": "lines",
         "name": "4",
         "orientation": "v",
         "showlegend": false,
         "type": "scatter",
         "x": [
          1.04,
          3.06,
          5.08,
          7.1,
          9.12,
          11.14,
          13.16,
          15.18,
          17.2,
          19.22,
          21.24,
          23.26,
          25.28,
          27.3,
          29.32,
          31.34,
          33.36,
          35.38,
          37.4,
          39.42,
          41.44,
          43.46,
          45.48,
          47.5,
          49.52,
          51.54,
          53.56,
          55.58,
          57.6,
          59.62
         ],
         "xaxis": "x",
         "y": [
          31.5,
          31.5,
          31.5,
          31.5,
          31.5,
          31.6,
          31.5,
          31.5,
          31.5,
          31.5,
          31.5,
          31.5,
          31.5,
          31.5,
          31.5,
          31.4,
          31.4,
          31.4,
          31.4,
          31.4,
          31.4,
          31.4,
          31.4,
          31.4,
          31.5,
          31.5,
          31.5,
          31.5,
          31.5,
          31.6
         ],
         "yaxis": "y"
        },
        {
         "hovertemplate": "id_ubi=4<br>variable=Humidity<br>Timestamp=%{x}<br>value=%{y}<extra></extra>",
         "legendgroup": "4",
         "line": {
          "color": "#ab63fa",
          "dash": "solid"
         },
         "marker": {
          "symbol": "circle"
         },
         "mode": "lines",
         "name": "4",
         "orientation": "v",
         "showlegend": false,
         "type": "scatter",
         "x": [
          1.04,
          3.06,
          5.08,
          7.1,
          9.12,
          11.14,
          13.16,
          15.18,
          17.2,
          19.22,
          21.24,
          23.26,
          25.28,
          27.3,
          29.32,
          31.34,
          33.36,
          35.38,
          37.4,
          39.42,
          41.44,
          43.46,
          45.48,
          47.5,
          49.52,
          51.54,
          53.56,
          55.58,
          57.6,
          59.62
         ],
         "xaxis": "x",
         "y": [
          59.6,
          59.6,
          59.6,
          59.7,
          59.8,
          59.8,
          59.9,
          60,
          60.1,
          60.1,
          60.1,
          60,
          59.9,
          59.9,
          60,
          60.1,
          60,
          59.9,
          59.9,
          59.8,
          59.9,
          60,
          60,
          60,
          60.1,
          60,
          60.1,
          60.1,
          60.2,
          60.2
         ],
         "yaxis": "y"
        },
        {
         "hovertemplate": "id_ubi=5<br>variable=CO2<br>Timestamp=%{x}<br>value=%{y}<extra></extra>",
         "legendgroup": "5",
         "line": {
          "color": "#FFA15A",
          "dash": "solid"
         },
         "marker": {
          "symbol": "circle"
         },
         "mode": "lines",
         "name": "5",
         "orientation": "v",
         "showlegend": true,
         "type": "scatter",
         "x": [
          1.04,
          3.06,
          5.08,
          7.1,
          9.12,
          11.14,
          13.16,
          15.18,
          17.2,
          19.22,
          21.24,
          23.26,
          25.28,
          27.3,
          29.32,
          31.34,
          33.36,
          35.38,
          37.4,
          39.42,
          41.44,
          43.46,
          45.48,
          47.5,
          49.52,
          51.54,
          53.56,
          55.58,
          57.6,
          59.62
         ],
         "xaxis": "x",
         "y": [
          161,
          161,
          160.8,
          161.1,
          161.1,
          161.1,
          161.2,
          160.9,
          161.1,
          160.9,
          161.1,
          161.3,
          161.3,
          161.1,
          161.2,
          161.1,
          160.9,
          160.9,
          161.1,
          161.3,
          161.2,
          161,
          160.8,
          160.8,
          160.8,
          160.5,
          160.2,
          160.2,
          160.3,
          160.3
         ],
         "yaxis": "y"
        },
        {
         "hovertemplate": "id_ubi=5<br>variable=Temperature<br>Timestamp=%{x}<br>value=%{y}<extra></extra>",
         "legendgroup": "5",
         "line": {
          "color": "#FFA15A",
          "dash": "solid"
         },
         "marker": {
          "symbol": "circle"
         },
         "mode": "lines",
         "name": "5",
         "orientation": "v",
         "showlegend": false,
         "type": "scatter",
         "x": [
          1.04,
          3.06,
          5.08,
          7.1,
          9.12,
          11.14,
          13.16,
          15.18,
          17.2,
          19.22,
          21.24,
          23.26,
          25.28,
          27.3,
          29.32,
          31.34,
          33.36,
          35.38,
          37.4,
          39.42,
          41.44,
          43.46,
          45.48,
          47.5,
          49.52,
          51.54,
          53.56,
          55.58,
          57.6,
          59.62
         ],
         "xaxis": "x",
         "y": [
          31.6,
          31.6,
          31.6,
          31.5,
          31.5,
          31.6,
          31.6,
          31.6,
          31.6,
          31.6,
          31.6,
          31.6,
          31.6,
          31.6,
          31.6,
          31.6,
          31.6,
          31.6,
          31.6,
          31.6,
          31.5,
          31.5,
          31.6,
          31.6,
          31.6,
          31.6,
          31.6,
          31.6,
          31.6,
          31.6
         ],
         "yaxis": "y"
        },
        {
         "hovertemplate": "id_ubi=5<br>variable=Humidity<br>Timestamp=%{x}<br>value=%{y}<extra></extra>",
         "legendgroup": "5",
         "line": {
          "color": "#FFA15A",
          "dash": "solid"
         },
         "marker": {
          "symbol": "circle"
         },
         "mode": "lines",
         "name": "5",
         "orientation": "v",
         "showlegend": false,
         "type": "scatter",
         "x": [
          1.04,
          3.06,
          5.08,
          7.1,
          9.12,
          11.14,
          13.16,
          15.18,
          17.2,
          19.22,
          21.24,
          23.26,
          25.28,
          27.3,
          29.32,
          31.34,
          33.36,
          35.38,
          37.4,
          39.42,
          41.44,
          43.46,
          45.48,
          47.5,
          49.52,
          51.54,
          53.56,
          55.58,
          57.6,
          59.62
         ],
         "xaxis": "x",
         "y": [
          58.8,
          58.9,
          58.8,
          58.8,
          58.7,
          58.7,
          58.7,
          58.8,
          58.9,
          58.9,
          58.9,
          58.9,
          58.9,
          59,
          59,
          59,
          59,
          59,
          59,
          59.1,
          59.1,
          59.1,
          59.1,
          59.1,
          59.1,
          59.1,
          59.2,
          59.1,
          59,
          59
         ],
         "yaxis": "y"
        }
       ],
       "layout": {
        "legend": {
         "title": {
          "text": "id_ubi"
         },
         "tracegroupgap": 0
        },
        "margin": {
         "t": 60
        },
        "template": {
         "data": {
          "bar": [
           {
            "error_x": {
             "color": "#2a3f5f"
            },
            "error_y": {
             "color": "#2a3f5f"
            },
            "marker": {
             "line": {
              "color": "#E5ECF6",
              "width": 0.5
             },
             "pattern": {
              "fillmode": "overlay",
              "size": 10,
              "solidity": 0.2
             }
            },
            "type": "bar"
           }
          ],
          "barpolar": [
           {
            "marker": {
             "line": {
              "color": "#E5ECF6",
              "width": 0.5
             },
             "pattern": {
              "fillmode": "overlay",
              "size": 10,
              "solidity": 0.2
             }
            },
            "type": "barpolar"
           }
          ],
          "carpet": [
           {
            "aaxis": {
             "endlinecolor": "#2a3f5f",
             "gridcolor": "white",
             "linecolor": "white",
             "minorgridcolor": "white",
             "startlinecolor": "#2a3f5f"
            },
            "baxis": {
             "endlinecolor": "#2a3f5f",
             "gridcolor": "white",
             "linecolor": "white",
             "minorgridcolor": "white",
             "startlinecolor": "#2a3f5f"
            },
            "type": "carpet"
           }
          ],
          "choropleth": [
           {
            "colorbar": {
             "outlinewidth": 0,
             "ticks": ""
            },
            "type": "choropleth"
           }
          ],
          "contour": [
           {
            "colorbar": {
             "outlinewidth": 0,
             "ticks": ""
            },
            "colorscale": [
             [
              0,
              "#0d0887"
             ],
             [
              0.1111111111111111,
              "#46039f"
             ],
             [
              0.2222222222222222,
              "#7201a8"
             ],
             [
              0.3333333333333333,
              "#9c179e"
             ],
             [
              0.4444444444444444,
              "#bd3786"
             ],
             [
              0.5555555555555556,
              "#d8576b"
             ],
             [
              0.6666666666666666,
              "#ed7953"
             ],
             [
              0.7777777777777778,
              "#fb9f3a"
             ],
             [
              0.8888888888888888,
              "#fdca26"
             ],
             [
              1,
              "#f0f921"
             ]
            ],
            "type": "contour"
           }
          ],
          "contourcarpet": [
           {
            "colorbar": {
             "outlinewidth": 0,
             "ticks": ""
            },
            "type": "contourcarpet"
           }
          ],
          "heatmap": [
           {
            "colorbar": {
             "outlinewidth": 0,
             "ticks": ""
            },
            "colorscale": [
             [
              0,
              "#0d0887"
             ],
             [
              0.1111111111111111,
              "#46039f"
             ],
             [
              0.2222222222222222,
              "#7201a8"
             ],
             [
              0.3333333333333333,
              "#9c179e"
             ],
             [
              0.4444444444444444,
              "#bd3786"
             ],
             [
              0.5555555555555556,
              "#d8576b"
             ],
             [
              0.6666666666666666,
              "#ed7953"
             ],
             [
              0.7777777777777778,
              "#fb9f3a"
             ],
             [
              0.8888888888888888,
              "#fdca26"
             ],
             [
              1,
              "#f0f921"
             ]
            ],
            "type": "heatmap"
           }
          ],
          "heatmapgl": [
           {
            "colorbar": {
             "outlinewidth": 0,
             "ticks": ""
            },
            "colorscale": [
             [
              0,
              "#0d0887"
             ],
             [
              0.1111111111111111,
              "#46039f"
             ],
             [
              0.2222222222222222,
              "#7201a8"
             ],
             [
              0.3333333333333333,
              "#9c179e"
             ],
             [
              0.4444444444444444,
              "#bd3786"
             ],
             [
              0.5555555555555556,
              "#d8576b"
             ],
             [
              0.6666666666666666,
              "#ed7953"
             ],
             [
              0.7777777777777778,
              "#fb9f3a"
             ],
             [
              0.8888888888888888,
              "#fdca26"
             ],
             [
              1,
              "#f0f921"
             ]
            ],
            "type": "heatmapgl"
           }
          ],
          "histogram": [
           {
            "marker": {
             "pattern": {
              "fillmode": "overlay",
              "size": 10,
              "solidity": 0.2
             }
            },
            "type": "histogram"
           }
          ],
          "histogram2d": [
           {
            "colorbar": {
             "outlinewidth": 0,
             "ticks": ""
            },
            "colorscale": [
             [
              0,
              "#0d0887"
             ],
             [
              0.1111111111111111,
              "#46039f"
             ],
             [
              0.2222222222222222,
              "#7201a8"
             ],
             [
              0.3333333333333333,
              "#9c179e"
             ],
             [
              0.4444444444444444,
              "#bd3786"
             ],
             [
              0.5555555555555556,
              "#d8576b"
             ],
             [
              0.6666666666666666,
              "#ed7953"
             ],
             [
              0.7777777777777778,
              "#fb9f3a"
             ],
             [
              0.8888888888888888,
              "#fdca26"
             ],
             [
              1,
              "#f0f921"
             ]
            ],
            "type": "histogram2d"
           }
          ],
          "histogram2dcontour": [
           {
            "colorbar": {
             "outlinewidth": 0,
             "ticks": ""
            },
            "colorscale": [
             [
              0,
              "#0d0887"
             ],
             [
              0.1111111111111111,
              "#46039f"
             ],
             [
              0.2222222222222222,
              "#7201a8"
             ],
             [
              0.3333333333333333,
              "#9c179e"
             ],
             [
              0.4444444444444444,
              "#bd3786"
             ],
             [
              0.5555555555555556,
              "#d8576b"
             ],
             [
              0.6666666666666666,
              "#ed7953"
             ],
             [
              0.7777777777777778,
              "#fb9f3a"
             ],
             [
              0.8888888888888888,
              "#fdca26"
             ],
             [
              1,
              "#f0f921"
             ]
            ],
            "type": "histogram2dcontour"
           }
          ],
          "mesh3d": [
           {
            "colorbar": {
             "outlinewidth": 0,
             "ticks": ""
            },
            "type": "mesh3d"
           }
          ],
          "parcoords": [
           {
            "line": {
             "colorbar": {
              "outlinewidth": 0,
              "ticks": ""
             }
            },
            "type": "parcoords"
           }
          ],
          "pie": [
           {
            "automargin": true,
            "type": "pie"
           }
          ],
          "scatter": [
           {
            "fillpattern": {
             "fillmode": "overlay",
             "size": 10,
             "solidity": 0.2
            },
            "type": "scatter"
           }
          ],
          "scatter3d": [
           {
            "line": {
             "colorbar": {
              "outlinewidth": 0,
              "ticks": ""
             }
            },
            "marker": {
             "colorbar": {
              "outlinewidth": 0,
              "ticks": ""
             }
            },
            "type": "scatter3d"
           }
          ],
          "scattercarpet": [
           {
            "marker": {
             "colorbar": {
              "outlinewidth": 0,
              "ticks": ""
             }
            },
            "type": "scattercarpet"
           }
          ],
          "scattergeo": [
           {
            "marker": {
             "colorbar": {
              "outlinewidth": 0,
              "ticks": ""
             }
            },
            "type": "scattergeo"
           }
          ],
          "scattergl": [
           {
            "marker": {
             "colorbar": {
              "outlinewidth": 0,
              "ticks": ""
             }
            },
            "type": "scattergl"
           }
          ],
          "scattermapbox": [
           {
            "marker": {
             "colorbar": {
              "outlinewidth": 0,
              "ticks": ""
             }
            },
            "type": "scattermapbox"
           }
          ],
          "scatterpolar": [
           {
            "marker": {
             "colorbar": {
              "outlinewidth": 0,
              "ticks": ""
             }
            },
            "type": "scatterpolar"
           }
          ],
          "scatterpolargl": [
           {
            "marker": {
             "colorbar": {
              "outlinewidth": 0,
              "ticks": ""
             }
            },
            "type": "scatterpolargl"
           }
          ],
          "scatterternary": [
           {
            "marker": {
             "colorbar": {
              "outlinewidth": 0,
              "ticks": ""
             }
            },
            "type": "scatterternary"
           }
          ],
          "surface": [
           {
            "colorbar": {
             "outlinewidth": 0,
             "ticks": ""
            },
            "colorscale": [
             [
              0,
              "#0d0887"
             ],
             [
              0.1111111111111111,
              "#46039f"
             ],
             [
              0.2222222222222222,
              "#7201a8"
             ],
             [
              0.3333333333333333,
              "#9c179e"
             ],
             [
              0.4444444444444444,
              "#bd3786"
             ],
             [
              0.5555555555555556,
              "#d8576b"
             ],
             [
              0.6666666666666666,
              "#ed7953"
             ],
             [
              0.7777777777777778,
              "#fb9f3a"
             ],
             [
              0.8888888888888888,
              "#fdca26"
             ],
             [
              1,
              "#f0f921"
             ]
            ],
            "type": "surface"
           }
          ],
          "table": [
           {
            "cells": {
             "fill": {
              "color": "#EBF0F8"
             },
             "line": {
              "color": "white"
             }
            },
            "header": {
             "fill": {
              "color": "#C8D4E3"
             },
             "line": {
              "color": "white"
             }
            },
            "type": "table"
           }
          ]
         },
         "layout": {
          "annotationdefaults": {
           "arrowcolor": "#2a3f5f",
           "arrowhead": 0,
           "arrowwidth": 1
          },
          "autotypenumbers": "strict",
          "coloraxis": {
           "colorbar": {
            "outlinewidth": 0,
            "ticks": ""
           }
          },
          "colorscale": {
           "diverging": [
            [
             0,
             "#8e0152"
            ],
            [
             0.1,
             "#c51b7d"
            ],
            [
             0.2,
             "#de77ae"
            ],
            [
             0.3,
             "#f1b6da"
            ],
            [
             0.4,
             "#fde0ef"
            ],
            [
             0.5,
             "#f7f7f7"
            ],
            [
             0.6,
             "#e6f5d0"
            ],
            [
             0.7,
             "#b8e186"
            ],
            [
             0.8,
             "#7fbc41"
            ],
            [
             0.9,
             "#4d9221"
            ],
            [
             1,
             "#276419"
            ]
           ],
           "sequential": [
            [
             0,
             "#0d0887"
            ],
            [
             0.1111111111111111,
             "#46039f"
            ],
            [
             0.2222222222222222,
             "#7201a8"
            ],
            [
             0.3333333333333333,
             "#9c179e"
            ],
            [
             0.4444444444444444,
             "#bd3786"
            ],
            [
             0.5555555555555556,
             "#d8576b"
            ],
            [
             0.6666666666666666,
             "#ed7953"
            ],
            [
             0.7777777777777778,
             "#fb9f3a"
            ],
            [
             0.8888888888888888,
             "#fdca26"
            ],
            [
             1,
             "#f0f921"
            ]
           ],
           "sequentialminus": [
            [
             0,
             "#0d0887"
            ],
            [
             0.1111111111111111,
             "#46039f"
            ],
            [
             0.2222222222222222,
             "#7201a8"
            ],
            [
             0.3333333333333333,
             "#9c179e"
            ],
            [
             0.4444444444444444,
             "#bd3786"
            ],
            [
             0.5555555555555556,
             "#d8576b"
            ],
            [
             0.6666666666666666,
             "#ed7953"
            ],
            [
             0.7777777777777778,
             "#fb9f3a"
            ],
            [
             0.8888888888888888,
             "#fdca26"
            ],
            [
             1,
             "#f0f921"
            ]
           ]
          },
          "colorway": [
           "#636efa",
           "#EF553B",
           "#00cc96",
           "#ab63fa",
           "#FFA15A",
           "#19d3f3",
           "#FF6692",
           "#B6E880",
           "#FF97FF",
           "#FECB52"
          ],
          "font": {
           "color": "#2a3f5f"
          },
          "geo": {
           "bgcolor": "white",
           "lakecolor": "white",
           "landcolor": "#E5ECF6",
           "showlakes": true,
           "showland": true,
           "subunitcolor": "white"
          },
          "hoverlabel": {
           "align": "left"
          },
          "hovermode": "closest",
          "mapbox": {
           "style": "light"
          },
          "paper_bgcolor": "white",
          "plot_bgcolor": "#E5ECF6",
          "polar": {
           "angularaxis": {
            "gridcolor": "white",
            "linecolor": "white",
            "ticks": ""
           },
           "bgcolor": "#E5ECF6",
           "radialaxis": {
            "gridcolor": "white",
            "linecolor": "white",
            "ticks": ""
           }
          },
          "scene": {
           "xaxis": {
            "backgroundcolor": "#E5ECF6",
            "gridcolor": "white",
            "gridwidth": 2,
            "linecolor": "white",
            "showbackground": true,
            "ticks": "",
            "zerolinecolor": "white"
           },
           "yaxis": {
            "backgroundcolor": "#E5ECF6",
            "gridcolor": "white",
            "gridwidth": 2,
            "linecolor": "white",
            "showbackground": true,
            "ticks": "",
            "zerolinecolor": "white"
           },
           "zaxis": {
            "backgroundcolor": "#E5ECF6",
            "gridcolor": "white",
            "gridwidth": 2,
            "linecolor": "white",
            "showbackground": true,
            "ticks": "",
            "zerolinecolor": "white"
           }
          },
          "shapedefaults": {
           "line": {
            "color": "#2a3f5f"
           }
          },
          "ternary": {
           "aaxis": {
            "gridcolor": "white",
            "linecolor": "white",
            "ticks": ""
           },
           "baxis": {
            "gridcolor": "white",
            "linecolor": "white",
            "ticks": ""
           },
           "bgcolor": "#E5ECF6",
           "caxis": {
            "gridcolor": "white",
            "linecolor": "white",
            "ticks": ""
           }
          },
          "title": {
           "x": 0.05
          },
          "xaxis": {
           "automargin": true,
           "gridcolor": "white",
           "linecolor": "white",
           "ticks": "",
           "title": {
            "standoff": 15
           },
           "zerolinecolor": "white",
           "zerolinewidth": 2
          },
          "yaxis": {
           "automargin": true,
           "gridcolor": "white",
           "linecolor": "white",
           "ticks": "",
           "title": {
            "standoff": 15
           },
           "zerolinecolor": "white",
           "zerolinewidth": 2
          }
         }
        },
        "title": {
         "text": "Sensor Data by id_ubi"
        },
        "xaxis": {
         "anchor": "y",
         "domain": [
          0,
          1
         ],
         "title": {
          "text": "Time"
         }
        },
        "yaxis": {
         "anchor": "x",
         "domain": [
          0,
          1
         ],
         "title": {
          "text": "Value"
         }
        }
       }
      }
     },
     "metadata": {},
     "output_type": "display_data"
    }
   ],
   "source": [
    "def load_data(csv_file_path):\n",
    "    # Cargar los datos del archivo CSV en un DataFrame de Pandas\n",
    "    df = pd.read_csv(csv_file_path)\n",
    "    return df\n",
    "\n",
    "def plot_data_by_id_ubi(df):\n",
    "    # Crear una figura con Plotly Express para visualizar los datos por id_ubi\n",
    "    fig = px.line(df, x='Timestamp', y=['CO2', 'Temperature', 'Humidity'], color='id_ubi')\n",
    "\n",
    "    # Actualizar las opciones de diseño\n",
    "    fig.update_layout(\n",
    "        title='Sensor Data by id_ubi',\n",
    "        xaxis=dict(title='Time'),\n",
    "        yaxis=dict(title='Value'),\n",
    "    )\n",
    "\n",
    "    # Mostrar el gráfico\n",
    "    fig.show()\n",
    "\n",
    "csv_file_path = \"results.csv\"  # Ruta del archivo CSV\n",
    "\n",
    "# Cargar los datos del archivo CSV\n",
    "data = load_data(csv_file_path)\n",
    "\n",
    "# Graficar los datos por id_ubi\n",
    "plot_data_by_id_ubi(data)\n"
   ]
  },
  {
   "cell_type": "markdown",
   "metadata": {},
   "source": [
    "### Enviar Notificaciones"
   ]
  },
  {
   "cell_type": "code",
   "execution_count": 12,
   "metadata": {},
   "outputs": [],
   "source": [
    "import smtplib\n",
    "from email.mime.multipart import MIMEMultipart\n",
    "from email.mime.text import MIMEText\n",
    "from getpass import getpass\n",
    "from email.mime.image import MIMEImage\n",
    "import smtplib\n",
    "import io\n",
    "import matplotlib.pyplot as plt\n",
    "import base64"
   ]
  },
  {
   "cell_type": "code",
   "execution_count": 13,
   "metadata": {},
   "outputs": [],
   "source": [
    "def analyze_air_quality(df):\n",
    "    # Calcular promedios por ubicación\n",
    "    location_averages = df.groupby('id_ubi').agg({\n",
    "        'CO2': 'mean',\n",
    "        'Temperature': 'mean',\n",
    "        'Humidity': 'mean'\n",
    "    }).round(2)\n",
    "    \n",
    "    # Ordenar ubicaciones por nivel de CO2 (ascendente = mejor calidad de aire)\n",
    "    location_ranking = location_averages.sort_values('CO2')\n",
    "    \n",
    "    return location_ranking"
   ]
  },
  {
   "cell_type": "code",
   "execution_count": 14,
   "metadata": {},
   "outputs": [],
   "source": [
    "def generate_plot(df):\n",
    "    # Crear figura con subplots\n",
    "    fig, (ax1, ax2, ax3) = plt.subplots(3, 1, figsize=(12, 10), sharex=True)\n",
    "    \n",
    "    # Graficar CO2 para cada ubicación\n",
    "    for location in df['id_ubi'].unique():\n",
    "        location_data = df[df['id_ubi'] == location]\n",
    "        ax1.plot(location_data['Timestamp'], location_data['CO2'], label=f'Ubicación {location}')\n",
    "    ax1.set_ylabel('CO2 (ppm)')\n",
    "    ax1.set_title('Niveles de CO2 por Ubicación')\n",
    "    ax1.legend()\n",
    "    ax1.grid(True)\n",
    "\n",
    "    # Graficar Temperatura\n",
    "    for location in df['id_ubi'].unique():\n",
    "        location_data = df[df['id_ubi'] == location]\n",
    "        ax2.plot(location_data['Timestamp'], location_data['Temperature'], label=f'Ubicación {location}')\n",
    "    ax2.set_ylabel('Temperatura (°C)')\n",
    "    ax2.set_title('Temperatura por Ubicación')\n",
    "    ax2.grid(True)\n",
    "\n",
    "    # Graficar Humedad\n",
    "    for location in df['id_ubi'].unique():\n",
    "        location_data = df[df['id_ubi'] == location]\n",
    "        ax3.plot(location_data['Timestamp'], location_data['Humidity'], label=f'Ubicación {location}')\n",
    "    ax3.set_ylabel('Humedad (%)')\n",
    "    ax3.set_title('Humedad por Ubicación')\n",
    "    ax3.grid(True)\n",
    "\n",
    "    plt.tight_layout()\n",
    "    \n",
    "    # Guardar imagen en memoria\n",
    "    img_buffer = io.BytesIO()\n",
    "    plt.savefig(img_buffer, format='png', dpi=300, bbox_inches='tight')\n",
    "    img_buffer.seek(0)\n",
    "    plt.close()\n",
    "    \n",
    "    return img_buffer"
   ]
  },
  {
   "cell_type": "code",
   "execution_count": 15,
   "metadata": {},
   "outputs": [],
   "source": [
    "def generate_air_quality_html(df, location_ranking):\n",
    "    # Generar HTML con estilos modernos\n",
    "    html = f\"\"\"\n",
    "    <html>\n",
    "        <head>\n",
    "            <style>\n",
    "                body {{\n",
    "                    font-family: 'Arial', sans-serif;\n",
    "                    line-height: 1.6;\n",
    "                    margin: 0;\n",
    "                    padding: 20px;\n",
    "                    background-color: #f5f5f5;\n",
    "                }}\n",
    "                .container {{\n",
    "                    max-width: 800px;\n",
    "                    margin: 0 auto;\n",
    "                    background-color: white;\n",
    "                    padding: 20px;\n",
    "                    border-radius: 10px;\n",
    "                    box-shadow: 0 2px 5px rgba(0,0,0,0.1);\n",
    "                }}\n",
    "                h1, h2 {{\n",
    "                    color: #2c3e50;\n",
    "                    border-bottom: 2px solid #3498db;\n",
    "                    padding-bottom: 10px;\n",
    "                }}\n",
    "                .ranking-card {{\n",
    "                    background-color: #fff;\n",
    "                    padding: 15px;\n",
    "                    margin: 10px 0;\n",
    "                    border-radius: 5px;\n",
    "                    border-left: 5px solid;\n",
    "                }}\n",
    "                .best {{\n",
    "                    border-left-color: #2ecc71;\n",
    "                }}\n",
    "                .warning {{\n",
    "                    border-left-color: #e74c3c;\n",
    "                    background-color: #fadbd8;\n",
    "                }}\n",
    "                .stats {{\n",
    "                    display: grid;\n",
    "                    grid-template-columns: repeat(auto-fit, minmax(200px, 1fr));\n",
    "                    gap: 15px;\n",
    "                    margin: 20px 0;\n",
    "                }}\n",
    "                .stat-card {{\n",
    "                    background-color: #fff;\n",
    "                    padding: 15px;\n",
    "                    border-radius: 5px;\n",
    "                    box-shadow: 0 2px 5px rgba(0,0,0,0.1);\n",
    "                }}\n",
    "                img {{\n",
    "                    max-width: 100%;\n",
    "                    height: auto;\n",
    "                    margin: 20px 0;\n",
    "                }}\n",
    "            </style>\n",
    "        </head>\n",
    "        <body>\n",
    "            <div class=\"container\">\n",
    "                <h1>Reporte de Calidad del Aire</h1>\n",
    "                \n",
    "                <div class=\"ranking-card best\">\n",
    "                    <h2>Mejor Ubicación</h2>\n",
    "                    <p>La ubicación con mejor calidad de aire es: <strong>Ubicación {location_ranking.index[0]}</strong></p>\n",
    "                    <p>CO2 Promedio: {location_ranking.iloc[0]['CO2']} ppm</p>\n",
    "                </div>\n",
    "\n",
    "                <div class=\"ranking-card warning\">\n",
    "                    <h2>⚠️ Alerta de Calidad de Aire</h2>\n",
    "                    <p>La ubicación con niveles más altos de CO2 es: <strong>Ubicación {location_ranking.index[-1]}</strong></p>\n",
    "                    <p>CO2 Promedio: {location_ranking.iloc[-1]['CO2']} ppm</p>\n",
    "                    <p>Se recomienda mejorar la ventilación en esta área.</p>\n",
    "                </div>\n",
    "\n",
    "                <h2>Top 5 Ubicaciones (Ordenadas por Calidad de Aire)</h2>\n",
    "                <div class=\"stats\">\n",
    "    \"\"\"\n",
    "    \n",
    "    # Agregar cada ubicación al HTML\n",
    "    for idx, (location, row) in enumerate(location_ranking.iterrows(), 1):\n",
    "        color = \"#2ecc71\" if idx == 1 else \"#e74c3c\" if idx == len(location_ranking) else \"#3498db\"\n",
    "        html += f\"\"\"\n",
    "                    <div class=\"stat-card\" style=\"border-left: 5px solid {color}\">\n",
    "                        <h3>#{idx} - Ubicación {location}</h3>\n",
    "                        <p>CO2: {row['CO2']} ppm</p>\n",
    "                        <p>Temperatura: {row['Temperature']}°C</p>\n",
    "                        <p>Humedad: {row['Humidity']}%</p>\n",
    "                    </div>\n",
    "        \"\"\"\n",
    "\n",
    "    # Agregar referencia a la imagen adjunta y cerrar el HTML\n",
    "    html += \"\"\"\n",
    "                </div>\n",
    "                \n",
    "                <h2>Gráfica de Tendencias</h2>\n",
    "                <img src=\"cid:graficas_tendencias\" alt=\"Gráficas de tendencias\">\n",
    "            </div>\n",
    "        </body>\n",
    "    </html>\n",
    "    \"\"\"\n",
    "    \n",
    "    return html"
   ]
  },
  {
   "cell_type": "code",
   "execution_count": 16,
   "metadata": {},
   "outputs": [],
   "source": [
    "def enviar_correo_gmail(remitente, password, destinatario, asunto, texto, html, imagen_buffer):\n",
    "    # Crear mensaje\n",
    "    mensaje = MIMEMultipart('related')\n",
    "    mensaje['Subject'] = asunto\n",
    "    mensaje['From'] = remitente\n",
    "    mensaje['To'] = destinatario\n",
    "    \n",
    "    # Crear la parte alternativa (texto plano y HTML)\n",
    "    msgAlternative = MIMEMultipart('alternative')\n",
    "    mensaje.attach(msgAlternative)\n",
    "    \n",
    "    # Agregar texto plano\n",
    "    parte_texto = MIMEText(texto, 'plain')\n",
    "    msgAlternative.attach(parte_texto)\n",
    "    \n",
    "    # Agregar HTML\n",
    "    parte_html = MIMEText(html, 'html')\n",
    "    msgAlternative.attach(parte_html)\n",
    "    \n",
    "    # Adjuntar la imagen y establecer el Content-ID\n",
    "    imagen = MIMEImage(imagen_buffer.getvalue())\n",
    "    imagen.add_header('Content-ID', '<graficas_tendencias>')\n",
    "    imagen.add_header('Content-Disposition', 'inline', filename='graficas_tendencias.png')\n",
    "    mensaje.attach(imagen)\n",
    "    \n",
    "    # Conectar y enviar\n",
    "    try:\n",
    "        with smtplib.SMTP_SSL('smtp.gmail.com', 465) as servidor:\n",
    "            servidor.login(remitente, password)\n",
    "            servidor.sendmail(remitente, destinatario, mensaje.as_string())\n",
    "        print(\"Correo enviado exitosamente\")\n",
    "    except Exception as e:\n",
    "        print(f\"Error al enviar correo: {str(e)}\")"
   ]
  },
  {
   "cell_type": "code",
   "execution_count": null,
   "metadata": {},
   "outputs": [],
   "source": [
    "\n",
    "    \n",
    "# Cargar y analizar datos\n",
    "csv_file_path = \"results.csv\"\n",
    "df = pd.read_csv(csv_file_path)\n",
    "\n",
    "# Analizar datos\n",
    "location_ranking = analyze_air_quality(df)\n",
    "\n",
    "# Generar gráfica\n",
    "plot_buffer = generate_plot(df)\n",
    "    \n",
    "# Generar contenido del correo\n",
    "asunto = \"Reporte de Calidad del Aire - Análisis Diario\"\n",
    "texto = \"\"\"\n",
    "    Reporte de Calidad del Aire\n",
    "    \n",
    "    Este es un resumen automático de las mediciones de calidad del aire.\n",
    "    Por favor, visualice este correo en HTML para ver el reporte completo con gráficas.\n",
    "    \"\"\"\n",
    "    \n",
    "html = generate_air_quality_html(df, location_ranking)\n",
    "    \n"
   ]
  },
  {
   "cell_type": "markdown",
   "metadata": {},
   "source": [
    "Configuración de credenciales"
   ]
  },
  {
   "cell_type": "code",
   "execution_count": 18,
   "metadata": {},
   "outputs": [],
   "source": [
    "# Configuración del correo\n",
    "remitente = 'alumnoportal123@gmail.com'\n",
    "password = 'ksyevfuheiwgkqmw'\n",
    "destinatario = 'luis.balarezo@unmsm.edu.pe'"
   ]
  },
  {
   "cell_type": "code",
   "execution_count": 19,
   "metadata": {},
   "outputs": [
    {
     "name": "stdout",
     "output_type": "stream",
     "text": [
      "Correo enviado exitosamente\n"
     ]
    }
   ],
   "source": [
    "# Enviar correo\n",
    "enviar_correo_gmail(remitente, password, destinatario, asunto, texto, html, plot_buffer)"
   ]
  }
 ],
 "metadata": {
  "kernelspec": {
   "display_name": "Python 3",
   "language": "python",
   "name": "python3"
  },
  "language_info": {
   "codemirror_mode": {
    "name": "ipython",
    "version": 3
   },
   "file_extension": ".py",
   "mimetype": "text/x-python",
   "name": "python",
   "nbconvert_exporter": "python",
   "pygments_lexer": "ipython3",
   "version": "3.12.5"
  }
 },
 "nbformat": 4,
 "nbformat_minor": 2
}
